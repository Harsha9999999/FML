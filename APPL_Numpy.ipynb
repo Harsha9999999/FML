{
  "nbformat": 4,
  "nbformat_minor": 0,
  "metadata": {
    "colab": {
      "provenance": [],
      "include_colab_link": true
    },
    "kernelspec": {
      "name": "python3",
      "display_name": "Python 3"
    },
    "language_info": {
      "name": "python"
    }
  },
  "cells": [
    {
      "cell_type": "markdown",
      "metadata": {
        "id": "view-in-github",
        "colab_type": "text"
      },
      "source": [
        "<a href=\"https://colab.research.google.com/github/Harsha9999999/FML/blob/main/APPL_Numpy.ipynb\" target=\"_parent\"><img src=\"https://colab.research.google.com/assets/colab-badge.svg\" alt=\"Open In Colab\"/></a>"
      ]
    },
    {
      "cell_type": "code",
      "execution_count": null,
      "metadata": {
        "id": "2ZwIIcaPASps"
      },
      "outputs": [],
      "source": [
        "import numpy as np"
      ]
    },
    {
      "cell_type": "markdown",
      "source": [
        "# **0 - Dimension Array**"
      ],
      "metadata": {
        "id": "nrU3ZlDZI4LI"
      }
    },
    {
      "cell_type": "code",
      "source": [
        "a = np.array(200)\n",
        "\n",
        "print(a)"
      ],
      "metadata": {
        "colab": {
          "base_uri": "https://localhost:8080/"
        },
        "id": "PSjuN9zxJCD6",
        "outputId": "929ac6d5-96e7-490f-ab48-ca2be2487fa1"
      },
      "execution_count": null,
      "outputs": [
        {
          "output_type": "stream",
          "name": "stdout",
          "text": [
            "200\n"
          ]
        }
      ]
    },
    {
      "cell_type": "code",
      "source": [
        "b = np.array(500)\n",
        "print(b)"
      ],
      "metadata": {
        "colab": {
          "base_uri": "https://localhost:8080/"
        },
        "id": "mLJcE6mWWOX0",
        "outputId": "94c10735-7971-4936-aa65-c11fe73eea1a"
      },
      "execution_count": null,
      "outputs": [
        {
          "output_type": "stream",
          "name": "stdout",
          "text": [
            "500\n"
          ]
        }
      ]
    },
    {
      "cell_type": "code",
      "source": [
        "c = np.array(700)\n",
        "print(c)\n",
        "\n"
      ],
      "metadata": {
        "colab": {
          "base_uri": "https://localhost:8080/"
        },
        "id": "zOSipXpPWaNf",
        "outputId": "ea5a05df-994a-468f-cab2-9a0f7ea96958"
      },
      "execution_count": null,
      "outputs": [
        {
          "output_type": "stream",
          "name": "stdout",
          "text": [
            "700\n"
          ]
        }
      ]
    },
    {
      "cell_type": "code",
      "source": [
        "d = np.array(900)\n",
        "print(d)\n"
      ],
      "metadata": {
        "colab": {
          "base_uri": "https://localhost:8080/"
        },
        "id": "eFca6KbbWjQ_",
        "outputId": "2c5fb14f-ee69-4092-cbf0-43fb9e2bba7f"
      },
      "execution_count": null,
      "outputs": [
        {
          "output_type": "stream",
          "name": "stdout",
          "text": [
            "900\n"
          ]
        }
      ]
    },
    {
      "cell_type": "markdown",
      "source": [
        "# **1-Dimension Array**\n",
        "collection of is form 1-Dimensional Array"
      ],
      "metadata": {
        "id": "eOyL2JPPA7v6"
      }
    },
    {
      "cell_type": "code",
      "source": [
        "a1 = np.array([200,300,400,500,600])\n",
        "\n",
        "print(a1)"
      ],
      "metadata": {
        "colab": {
          "base_uri": "https://localhost:8080/"
        },
        "id": "ht1-He2DBY3B",
        "outputId": "2d1004b0-9e14-4ea6-ed92-d028cd77af0a"
      },
      "execution_count": null,
      "outputs": [
        {
          "output_type": "stream",
          "name": "stdout",
          "text": [
            "[200 300 400 500 600]\n"
          ]
        }
      ]
    },
    {
      "cell_type": "code",
      "source": [
        "a2 = np.array([1,2,3,4,5])\n",
        "print(a2)\n",
        "\n"
      ],
      "metadata": {
        "colab": {
          "base_uri": "https://localhost:8080/"
        },
        "id": "IT_GodlJWwHs",
        "outputId": "9f0a8b61-81e6-448a-f888-91df7dee1a20"
      },
      "execution_count": null,
      "outputs": [
        {
          "output_type": "stream",
          "name": "stdout",
          "text": [
            "[1 2 3 4 5]\n"
          ]
        }
      ]
    },
    {
      "cell_type": "code",
      "source": [
        "a3 = np.array([1.1,1.2,1.3,1.4,1.5])\n",
        "print(a3)\n",
        "\n"
      ],
      "metadata": {
        "colab": {
          "base_uri": "https://localhost:8080/"
        },
        "id": "Kt2jsBodW6Wn",
        "outputId": "5d8218fa-a16b-44a0-fcd7-b36d80c4681c"
      },
      "execution_count": null,
      "outputs": [
        {
          "output_type": "stream",
          "name": "stdout",
          "text": [
            "[1.1 1.2 1.3 1.4 1.5]\n"
          ]
        }
      ]
    },
    {
      "cell_type": "code",
      "source": [
        "a4 = np.array([10,20,30,40,50])\n",
        "print(a4)\n",
        "\n"
      ],
      "metadata": {
        "colab": {
          "base_uri": "https://localhost:8080/"
        },
        "id": "b_g276NkXBmH",
        "outputId": "9f2dbdb3-f065-409c-b47c-829bf64a889a"
      },
      "execution_count": null,
      "outputs": [
        {
          "output_type": "stream",
          "name": "stdout",
          "text": [
            "[10 20 30 40 50]\n"
          ]
        }
      ]
    },
    {
      "cell_type": "markdown",
      "source": [
        "# **2 - Dimension Array**\n",
        "\n",
        "\n",
        "*   0th list\n",
        "*   1st list\n",
        "\n"
      ],
      "metadata": {
        "id": "R1DdexbpBrof"
      }
    },
    {
      "cell_type": "code",
      "source": [
        "b1 = np.array([[200,300],[400,500]])\n",
        "\n",
        "print(b1)"
      ],
      "metadata": {
        "colab": {
          "base_uri": "https://localhost:8080/"
        },
        "id": "21BYS6BWCH33",
        "outputId": "485da896-7972-4633-ba79-2c6a0be304c1"
      },
      "execution_count": null,
      "outputs": [
        {
          "output_type": "stream",
          "name": "stdout",
          "text": [
            "[[200 300]\n",
            " [400 500]]\n"
          ]
        }
      ]
    },
    {
      "cell_type": "code",
      "source": [
        "b2 = np.array([[1,2,3],[4,5,6]])\n",
        "print(b2)\n",
        "print(b2[1,1])\n",
        "\n"
      ],
      "metadata": {
        "colab": {
          "base_uri": "https://localhost:8080/"
        },
        "id": "MTcOxjPiXLCo",
        "outputId": "0eaf0eb2-db46-4a7d-88f3-13cf8bd27b14"
      },
      "execution_count": null,
      "outputs": [
        {
          "output_type": "stream",
          "name": "stdout",
          "text": [
            "[[1 2 3]\n",
            " [4 5 6]]\n",
            "5\n"
          ]
        }
      ]
    },
    {
      "cell_type": "code",
      "source": [
        "b3 = np.array([[10,20,30],[40,50,60]])\n",
        "print(b3)\n",
        "\n"
      ],
      "metadata": {
        "colab": {
          "base_uri": "https://localhost:8080/"
        },
        "id": "iIaNVbWcXSUg",
        "outputId": "5a92d8a3-e4b6-4d0e-9dd2-bd583739d6fe"
      },
      "execution_count": null,
      "outputs": [
        {
          "output_type": "stream",
          "name": "stdout",
          "text": [
            "[[10 20 30]\n",
            " [40 50 60]]\n"
          ]
        }
      ]
    },
    {
      "cell_type": "code",
      "source": [
        "b4 = np.array([[11,12,13,14],[15,16,17,18]])\n",
        "print(b4)\n",
        "\n",
        "print(b4[0][2])\n",
        "print(b4[1][1])\n",
        "\n",
        "\n"
      ],
      "metadata": {
        "colab": {
          "base_uri": "https://localhost:8080/"
        },
        "id": "vr4vEXNzXdVv",
        "outputId": "079c4ab3-7189-4a37-ac89-f8a3f2bffffd"
      },
      "execution_count": null,
      "outputs": [
        {
          "output_type": "stream",
          "name": "stdout",
          "text": [
            "[[11 12 13 14]\n",
            " [15 16 17 18]]\n",
            "13\n",
            "16\n"
          ]
        }
      ]
    },
    {
      "cell_type": "markdown",
      "source": [
        "# **3 - Dimension Array**"
      ],
      "metadata": {
        "id": "tTDS5JjzHT0J"
      }
    },
    {
      "cell_type": "code",
      "source": [
        "c1 = np.array([[[200,300],[400,500]],[[600,700],[800,900]]])\n",
        "\n",
        "print(c1)\n"
      ],
      "metadata": {
        "colab": {
          "base_uri": "https://localhost:8080/"
        },
        "id": "rWEN5qGcHg2o",
        "outputId": "b9677eb7-e1e5-4108-b176-dec8d5a27a69"
      },
      "execution_count": null,
      "outputs": [
        {
          "output_type": "stream",
          "name": "stdout",
          "text": [
            "[[[200 300]\n",
            "  [400 500]]\n",
            "\n",
            " [[600 700]\n",
            "  [800 900]]]\n",
            " \n"
          ]
        },
        {
          "output_type": "execute_result",
          "data": {
            "text/plain": [
              "900"
            ]
          },
          "metadata": {},
          "execution_count": 22
        }
      ]
    },
    {
      "cell_type": "code",
      "source": [
        "c2 = np.array([[[10,20,30],[40,50,60]],[[70,80,90],[100,110,120]]])\n",
        "print(c2)\n"
      ],
      "metadata": {
        "colab": {
          "base_uri": "https://localhost:8080/"
        },
        "id": "gUmbf_VLXon2",
        "outputId": "5bcf349b-57b9-476e-9377-14fc7430f18c"
      },
      "execution_count": null,
      "outputs": [
        {
          "output_type": "stream",
          "name": "stdout",
          "text": [
            "[[[ 10  20  30]\n",
            "  [ 40  50  60]]\n",
            "\n",
            " [[ 70  80  90]\n",
            "  [100 110 120]]]\n"
          ]
        }
      ]
    },
    {
      "cell_type": "code",
      "source": [
        "c3 = np.array([[[1,2,3],[4,5,6]],[[7,8,9],[10,11,12]]])\n",
        "print(c3)\n",
        "\n",
        "print(c3[1][0][2])"
      ],
      "metadata": {
        "colab": {
          "base_uri": "https://localhost:8080/"
        },
        "id": "KAhdM2ePXuqf",
        "outputId": "4461adcc-2710-4791-95fd-7876ab44e456"
      },
      "execution_count": null,
      "outputs": [
        {
          "output_type": "stream",
          "name": "stdout",
          "text": [
            "[[[ 1  2  3]\n",
            "  [ 4  5  6]]\n",
            "\n",
            " [[ 7  8  9]\n",
            "  [10 11 12]]]\n",
            "9\n"
          ]
        }
      ]
    },
    {
      "cell_type": "code",
      "source": [
        "c4 = np.array([[[1.1,1.2,1.3],[1.4,1.5,1.6]],[[1.7,1.8,1.9],[2.0,2.1,2.2]]])\n",
        "print(c4)\n",
        "\n",
        "print(c4[0][0][1])"
      ],
      "metadata": {
        "colab": {
          "base_uri": "https://localhost:8080/"
        },
        "id": "4-GF6BkDYBv0",
        "outputId": "fe1850b1-a3f0-4a4f-c5cf-0c9c72257bd5"
      },
      "execution_count": null,
      "outputs": [
        {
          "output_type": "stream",
          "name": "stdout",
          "text": [
            "[[[1.1 1.2 1.3]\n",
            "  [1.4 1.5 1.6]]\n",
            "\n",
            " [[1.7 1.8 1.9]\n",
            "  [2.  2.1 2.2]]]\n",
            "1.2\n"
          ]
        }
      ]
    },
    {
      "cell_type": "markdown",
      "source": [],
      "metadata": {
        "id": "lvnuFTU3IJmq"
      }
    },
    {
      "cell_type": "markdown",
      "source": [
        "# **asarray()**"
      ],
      "metadata": {
        "id": "mUmmlM1cIJpT"
      }
    },
    {
      "cell_type": "code",
      "source": [
        "d1 = [200,300,400,500]\n",
        "d2 = np.asarray(d1,dtype = \"float\")\n",
        "print(d2)"
      ],
      "metadata": {
        "colab": {
          "base_uri": "https://localhost:8080/"
        },
        "id": "4ntranssIQh2",
        "outputId": "e61d8ae5-1376-4448-a879-1fe84552f82a"
      },
      "execution_count": null,
      "outputs": [
        {
          "output_type": "stream",
          "name": "stdout",
          "text": [
            "[200. 300. 400. 500.]\n"
          ]
        }
      ]
    },
    {
      "cell_type": "code",
      "source": [
        "e1 = [1,2,3,4,5,6]\n",
        "e2 = np.asarray(e1,dtype = \"S1\")\n",
        "print(e2)"
      ],
      "metadata": {
        "colab": {
          "base_uri": "https://localhost:8080/"
        },
        "id": "lY0_r6RpaSOk",
        "outputId": "60fedf2f-56d0-4c8a-8483-79172fc7e306"
      },
      "execution_count": null,
      "outputs": [
        {
          "output_type": "stream",
          "name": "stdout",
          "text": [
            "[b'1' b'2' b'3' b'4' b'5' b'6']\n"
          ]
        }
      ]
    },
    {
      "cell_type": "code",
      "source": [
        "f1 = [1.1,1.2,1.3,1.4]\n",
        "f2 = np.asarray(f1,dtype = \"int\")\n",
        "print(f2)"
      ],
      "metadata": {
        "colab": {
          "base_uri": "https://localhost:8080/"
        },
        "id": "bcwC5bA5a08s",
        "outputId": "cafb6e4c-eb24-4050-eb81-0409d3c90b18"
      },
      "execution_count": null,
      "outputs": [
        {
          "output_type": "stream",
          "name": "stdout",
          "text": [
            "[1 1 1 1]\n"
          ]
        }
      ]
    },
    {
      "cell_type": "code",
      "source": [
        "g1 = [5,6,7,8,9]\n",
        "g2 = np.asarray(g1,dtype = \"float\")\n",
        "print(g2)"
      ],
      "metadata": {
        "colab": {
          "base_uri": "https://localhost:8080/"
        },
        "id": "aw1UdA_1biMH",
        "outputId": "587e2a95-5683-45e3-b559-8954afcf4038"
      },
      "execution_count": null,
      "outputs": [
        {
          "output_type": "stream",
          "name": "stdout",
          "text": [
            "[5. 6. 7. 8. 9.]\n"
          ]
        }
      ]
    },
    {
      "cell_type": "markdown",
      "source": [
        "# **frombuffer()**\n",
        "\n",
        "\n",
        "\n",
        "1.   Converts string into buffer\n",
        "2.   place b infront of the string\n",
        "\n"
      ],
      "metadata": {
        "id": "C_Ld5nA9clXb"
      }
    },
    {
      "cell_type": "code",
      "source": [
        "h1 = b\"First year CSE students\"\n",
        "h2 = np.frombuffer(h1,dtype = \"S1\")\n",
        "print(h2)"
      ],
      "metadata": {
        "colab": {
          "base_uri": "https://localhost:8080/"
        },
        "id": "tMz2iZrzcsT2",
        "outputId": "403f90b7-6c2a-4fbb-83a9-8cf9bf6ae3c5"
      },
      "execution_count": null,
      "outputs": [
        {
          "output_type": "stream",
          "name": "stdout",
          "text": [
            "[b'F' b'i' b'r' b's' b't' b' ' b'y' b'e' b'a' b'r' b' ' b'C' b'S' b'E'\n",
            " b' ' b's' b't' b'u' b'd' b'e' b'n' b't' b's']\n"
          ]
        }
      ]
    },
    {
      "cell_type": "code",
      "source": [
        "# count\n",
        "h3 = b\"Heello World\"\n",
        "h4 = np.frombuffer(h3,dtype = \"S1\" , count = 10)\n",
        "print(h4)"
      ],
      "metadata": {
        "colab": {
          "base_uri": "https://localhost:8080/"
        },
        "id": "TjfwDEwydEcS",
        "outputId": "9fa360e4-f490-49e5-a989-0ddded3ddf02"
      },
      "execution_count": null,
      "outputs": [
        {
          "output_type": "stream",
          "name": "stdout",
          "text": [
            "[b'H' b'e' b'e' b'l' b'l' b'o' b' ' b'W' b'o' b'r']\n"
          ]
        }
      ]
    },
    {
      "cell_type": "code",
      "source": [
        "# offset\n",
        "h5 = b\"Good Morning\"\n",
        "h6 = np.frombuffer(h5,dtype = \"S1\" , count = 5 , offset = 2)\n",
        "print(h6)"
      ],
      "metadata": {
        "colab": {
          "base_uri": "https://localhost:8080/"
        },
        "id": "vtKoqxNgdpkO",
        "outputId": "be57520d-ca84-4d13-f3d9-c592da230844"
      },
      "execution_count": null,
      "outputs": [
        {
          "output_type": "stream",
          "name": "stdout",
          "text": [
            "[b'o' b'd' b' ' b'M' b'o']\n"
          ]
        }
      ]
    },
    {
      "cell_type": "code",
      "source": [
        "h7 = b\"Good Evening to all\"\n",
        "h8 = np.frombuffer(h7 , dtype = \"S1\")\n",
        "print(h8)"
      ],
      "metadata": {
        "colab": {
          "base_uri": "https://localhost:8080/"
        },
        "id": "PgR-Ba44eApP",
        "outputId": "38f4a156-bb26-4306-fc1a-560645ec62c6"
      },
      "execution_count": null,
      "outputs": [
        {
          "output_type": "stream",
          "name": "stdout",
          "text": [
            "[b'G' b'o' b'o' b'd' b' ' b'E' b'v' b'e' b'n' b'i' b'n' b'g' b' ' b't'\n",
            " b'o' b' ' b'a' b'l' b'l']\n"
          ]
        }
      ]
    },
    {
      "cell_type": "markdown",
      "source": [
        "# **fromiter()**\n",
        "\n"
      ],
      "metadata": {
        "id": "OM_HZ-6beerE"
      }
    },
    {
      "cell_type": "code",
      "source": [
        "i1 = ([200,300,400,500])\n",
        "i2 = np.fromiter(i1,dtype = \"int\" , count = 3)\n",
        "print(i2)\n"
      ],
      "metadata": {
        "colab": {
          "base_uri": "https://localhost:8080/"
        },
        "id": "qizOAb_hej9e",
        "outputId": "ef43842a-1a1f-485b-d843-eff25e5629dc"
      },
      "execution_count": null,
      "outputs": [
        {
          "output_type": "stream",
          "name": "stdout",
          "text": [
            "[200 300 400]\n"
          ]
        }
      ]
    },
    {
      "cell_type": "code",
      "source": [
        "i3 = ([1,2,3,4,5])\n",
        "i4 = np.fromiter(i3,dtype = \"float\" , count = 4)\n",
        "print(i4)"
      ],
      "metadata": {
        "colab": {
          "base_uri": "https://localhost:8080/"
        },
        "id": "22fF5ZxkfLyL",
        "outputId": "1894032b-b251-4b0c-dc66-af0321fae085"
      },
      "execution_count": null,
      "outputs": [
        {
          "output_type": "stream",
          "name": "stdout",
          "text": [
            "[1. 2. 3. 4.]\n"
          ]
        }
      ]
    },
    {
      "cell_type": "code",
      "source": [
        "i5 = ([5,6,7,8,9,10,11,12])\n",
        "i6 = np.fromiter(i5,dtype = \"float\" , count = 4)\n",
        "print(i6)"
      ],
      "metadata": {
        "colab": {
          "base_uri": "https://localhost:8080/"
        },
        "id": "JCS8mDsVfjbE",
        "outputId": "163247e3-67da-476d-a969-c85b9b5beb99"
      },
      "execution_count": null,
      "outputs": [
        {
          "output_type": "stream",
          "name": "stdout",
          "text": [
            "[5. 6. 7. 8.]\n"
          ]
        }
      ]
    },
    {
      "cell_type": "code",
      "source": [
        "i7 = ([3,4,5,6,7,8])\n",
        "i8 = np.fromiter(i7,dtype = \"S1\",count = 5)\n",
        "print(i8)"
      ],
      "metadata": {
        "colab": {
          "base_uri": "https://localhost:8080/"
        },
        "id": "ubiyy7CwgOVs",
        "outputId": "4ef3b78d-76d7-4156-8bac-bf0093f46a16"
      },
      "execution_count": null,
      "outputs": [
        {
          "output_type": "stream",
          "name": "stdout",
          "text": [
            "[b'3' b'4' b'5' b'6' b'7']\n"
          ]
        }
      ]
    },
    {
      "cell_type": "markdown",
      "source": [],
      "metadata": {
        "id": "klk95DUuJO1w"
      }
    },
    {
      "cell_type": "markdown",
      "source": [
        "\n",
        "\n",
        "# 1.  Row Major Order (\"C\")\n",
        "\n",
        "\n",
        "# 2.   Coloumn Major Order (\"F\")\n",
        "\n",
        "\n",
        "\n",
        "\n",
        "\n"
      ],
      "metadata": {
        "id": "Yzp-R9o0JO4p"
      }
    },
    {
      "cell_type": "code",
      "source": [
        "a = [[200,300],[400,500]]\n",
        "print(b)\n",
        "b = np.asarray(a,order = \"C\")\n",
        "for i in np.nditer(b):\n",
        "  print(i)"
      ],
      "metadata": {
        "colab": {
          "base_uri": "https://localhost:8080/"
        },
        "id": "adOsuS_qM4ax",
        "outputId": "f8bfc530-e0ef-4848-a759-44a421c13df2"
      },
      "execution_count": null,
      "outputs": [
        {
          "output_type": "stream",
          "name": "stdout",
          "text": [
            "[[200 300]\n",
            " [400 500]]\n",
            "200\n",
            "300\n",
            "400\n",
            "500\n"
          ]
        }
      ]
    },
    {
      "cell_type": "code",
      "source": [
        "a = [[200,300],[400,500]]\n",
        "b = np.asarray(a,order = \"F\")\n",
        "for i in np.nditer(b):\n",
        "  print(i)"
      ],
      "metadata": {
        "colab": {
          "base_uri": "https://localhost:8080/"
        },
        "id": "zv5mjh3UOXyz",
        "outputId": "1cbb9908-60be-4186-b9a4-4a7ec5c8e995"
      },
      "execution_count": null,
      "outputs": [
        {
          "output_type": "stream",
          "name": "stdout",
          "text": [
            "200\n",
            "400\n",
            "300\n",
            "500\n"
          ]
        }
      ]
    },
    {
      "cell_type": "markdown",
      "source": [
        "# **Initializing Arrays**"
      ],
      "metadata": {
        "id": "BFTfmCkFU-6q"
      }
    },
    {
      "cell_type": "markdown",
      "source": [
        "# **Zeros()**"
      ],
      "metadata": {
        "id": "I8C4ehsiVHOZ"
      }
    },
    {
      "cell_type": "code",
      "source": [
        "a = np.zeros(10)\n",
        "print(a)"
      ],
      "metadata": {
        "colab": {
          "base_uri": "https://localhost:8080/"
        },
        "id": "jAAh1yhCVNUd",
        "outputId": "cb33fdc5-60b1-4e13-b956-fbc5044dd94b"
      },
      "execution_count": null,
      "outputs": [
        {
          "output_type": "stream",
          "name": "stdout",
          "text": [
            "[0. 0. 0. 0. 0. 0. 0. 0. 0. 0.]\n"
          ]
        }
      ]
    },
    {
      "cell_type": "code",
      "source": [
        "np.zeros([4,5])\n"
      ],
      "metadata": {
        "colab": {
          "base_uri": "https://localhost:8080/"
        },
        "id": "0A8lq89KVlj1",
        "outputId": "17b94b9c-ba77-49c4-be43-2fdf65ac91a0"
      },
      "execution_count": null,
      "outputs": [
        {
          "output_type": "execute_result",
          "data": {
            "text/plain": [
              "array([[0., 0., 0., 0., 0.],\n",
              "       [0., 0., 0., 0., 0.],\n",
              "       [0., 0., 0., 0., 0.],\n",
              "       [0., 0., 0., 0., 0.]])"
            ]
          },
          "metadata": {},
          "execution_count": 7
        }
      ]
    },
    {
      "cell_type": "code",
      "source": [
        "a1 = np.zeros([5,4],dtype = int)\n",
        "print(a1)"
      ],
      "metadata": {
        "colab": {
          "base_uri": "https://localhost:8080/"
        },
        "id": "GFgM41epYKJt",
        "outputId": "d1ba3bb6-fd0c-4513-b647-7e3a552516c8"
      },
      "execution_count": null,
      "outputs": [
        {
          "output_type": "stream",
          "name": "stdout",
          "text": [
            "[[0 0 0 0]\n",
            " [0 0 0 0]\n",
            " [0 0 0 0]\n",
            " [0 0 0 0]\n",
            " [0 0 0 0]]\n"
          ]
        }
      ]
    },
    {
      "cell_type": "code",
      "source": [
        "b = np.zeros([5,4,4])\n",
        "print(b)"
      ],
      "metadata": {
        "colab": {
          "base_uri": "https://localhost:8080/"
        },
        "id": "avBke-6QV9bx",
        "outputId": "792e674b-d3bc-44dc-bbcf-9fd0404cbf6d"
      },
      "execution_count": null,
      "outputs": [
        {
          "output_type": "stream",
          "name": "stdout",
          "text": [
            "[[[0. 0. 0. 0.]\n",
            "  [0. 0. 0. 0.]\n",
            "  [0. 0. 0. 0.]\n",
            "  [0. 0. 0. 0.]]\n",
            "\n",
            " [[0. 0. 0. 0.]\n",
            "  [0. 0. 0. 0.]\n",
            "  [0. 0. 0. 0.]\n",
            "  [0. 0. 0. 0.]]\n",
            "\n",
            " [[0. 0. 0. 0.]\n",
            "  [0. 0. 0. 0.]\n",
            "  [0. 0. 0. 0.]\n",
            "  [0. 0. 0. 0.]]\n",
            "\n",
            " [[0. 0. 0. 0.]\n",
            "  [0. 0. 0. 0.]\n",
            "  [0. 0. 0. 0.]\n",
            "  [0. 0. 0. 0.]]\n",
            "\n",
            " [[0. 0. 0. 0.]\n",
            "  [0. 0. 0. 0.]\n",
            "  [0. 0. 0. 0.]\n",
            "  [0. 0. 0. 0.]]]\n"
          ]
        }
      ]
    },
    {
      "cell_type": "markdown",
      "source": [
        "# **full()**"
      ],
      "metadata": {
        "id": "SarMy95hWb5H"
      }
    },
    {
      "cell_type": "code",
      "source": [
        "c = np.full([4,4],6)\n",
        "print(c)"
      ],
      "metadata": {
        "colab": {
          "base_uri": "https://localhost:8080/"
        },
        "id": "AieL8UbuWiw5",
        "outputId": "b1ba1091-d12c-4ba2-ff9d-2e11497e20b3"
      },
      "execution_count": null,
      "outputs": [
        {
          "output_type": "stream",
          "name": "stdout",
          "text": [
            "[[6 6 6 6]\n",
            " [6 6 6 6]\n",
            " [6 6 6 6]\n",
            " [6 6 6 6]]\n"
          ]
        }
      ]
    },
    {
      "cell_type": "code",
      "source": [
        "d = np.full([4,4,6],8)\n",
        "print(d)"
      ],
      "metadata": {
        "colab": {
          "base_uri": "https://localhost:8080/"
        },
        "id": "ZRYmsQBdXEBx",
        "outputId": "864c4e09-2a6b-4587-9db1-a8b2b3b89056"
      },
      "execution_count": null,
      "outputs": [
        {
          "output_type": "stream",
          "name": "stdout",
          "text": [
            "[[[8 8 8 8 8 8]\n",
            "  [8 8 8 8 8 8]\n",
            "  [8 8 8 8 8 8]\n",
            "  [8 8 8 8 8 8]]\n",
            "\n",
            " [[8 8 8 8 8 8]\n",
            "  [8 8 8 8 8 8]\n",
            "  [8 8 8 8 8 8]\n",
            "  [8 8 8 8 8 8]]\n",
            "\n",
            " [[8 8 8 8 8 8]\n",
            "  [8 8 8 8 8 8]\n",
            "  [8 8 8 8 8 8]\n",
            "  [8 8 8 8 8 8]]\n",
            "\n",
            " [[8 8 8 8 8 8]\n",
            "  [8 8 8 8 8 8]\n",
            "  [8 8 8 8 8 8]\n",
            "  [8 8 8 8 8 8]]]\n"
          ]
        }
      ]
    },
    {
      "cell_type": "markdown",
      "source": [
        "# **random.rand()**\n",
        "\n",
        "*   Output in between 0 to 1\n",
        "*   no use of subscript[]\n",
        "\n",
        "\n",
        "\n",
        "\n",
        "\n"
      ],
      "metadata": {
        "id": "XTzAoS5nXGT5"
      }
    },
    {
      "cell_type": "code",
      "source": [
        "e = np.random.rand(5,6)\n",
        "print(e)"
      ],
      "metadata": {
        "colab": {
          "base_uri": "https://localhost:8080/"
        },
        "id": "oyNdqvgmXhWW",
        "outputId": "7a679c9b-8ae7-46da-cb10-e398d295e3b7"
      },
      "execution_count": null,
      "outputs": [
        {
          "output_type": "stream",
          "name": "stdout",
          "text": [
            "[[0.20338287 0.18122891 0.47435299 0.54044356 0.81639059 0.15106901]\n",
            " [0.4377879  0.0014823  0.49151335 0.29943665 0.49623485 0.45015871]\n",
            " [0.95415633 0.97496133 0.14584672 0.12445438 0.12615581 0.3956235 ]\n",
            " [0.82682427 0.4768078  0.18970336 0.81070437 0.3070036  0.08829562]\n",
            " [0.26931721 0.27650779 0.6188366  0.35228377 0.97907577 0.88765727]]\n"
          ]
        }
      ]
    },
    {
      "cell_type": "code",
      "source": [
        "e1 = np.random.rand(6,5,6)\n",
        "print(e1)"
      ],
      "metadata": {
        "colab": {
          "base_uri": "https://localhost:8080/"
        },
        "id": "X_v-c8qqXyjq",
        "outputId": "4b69af26-8919-42e6-d403-67c6124b69f7"
      },
      "execution_count": null,
      "outputs": [
        {
          "output_type": "stream",
          "name": "stdout",
          "text": [
            "[[[0.02665723 0.8445536  0.70687704 0.01247314 0.45041545 0.47087571]\n",
            "  [0.91446108 0.88710529 0.10693718 0.90514206 0.92030143 0.14196513]\n",
            "  [0.99269622 0.78405492 0.39877863 0.60878164 0.93435868 0.06689962]\n",
            "  [0.6468317  0.24200923 0.16821404 0.24303456 0.8932374  0.00601454]\n",
            "  [0.2135102  0.55528267 0.22337336 0.69018954 0.95429099 0.52156015]]\n",
            "\n",
            " [[0.26433989 0.78083237 0.3904859  0.71849229 0.34647893 0.85042191]\n",
            "  [0.63748319 0.94286189 0.50010883 0.02036907 0.2153807  0.2699141 ]\n",
            "  [0.57900494 0.42427502 0.16297724 0.1869303  0.26404183 0.98230684]\n",
            "  [0.81048326 0.76931773 0.6859415  0.41873482 0.65566582 0.46776305]\n",
            "  [0.33039997 0.12819394 0.96829289 0.5483465  0.98385887 0.44034339]]\n",
            "\n",
            " [[0.5835484  0.39029976 0.91024897 0.269144   0.50955866 0.38205129]\n",
            "  [0.00877532 0.4882626  0.56262782 0.56496934 0.13645892 0.55130231]\n",
            "  [0.2226277  0.61583121 0.09033996 0.54809356 0.1032234  0.90018506]\n",
            "  [0.46651181 0.34741721 0.23994671 0.15517003 0.1941245  0.75546174]\n",
            "  [0.64319304 0.26624822 0.6564531  0.06830324 0.99869298 0.96068912]]\n",
            "\n",
            " [[0.48093927 0.02813293 0.13479846 0.29866076 0.53998232 0.59163994]\n",
            "  [0.28858002 0.19611126 0.41517775 0.2136194  0.19535076 0.64798284]\n",
            "  [0.12853189 0.71668222 0.3669519  0.02121758 0.27084497 0.20184154]\n",
            "  [0.48632128 0.9890753  0.8901744  0.43727702 0.2142868  0.57542666]\n",
            "  [0.33253385 0.66492645 0.95044227 0.27833532 0.14042678 0.67776088]]\n",
            "\n",
            " [[0.30974057 0.50634545 0.71867237 0.32498281 0.04214162 0.74371936]\n",
            "  [0.36784695 0.08288694 0.0513378  0.22545684 0.50654245 0.71378991]\n",
            "  [0.758758   0.44924138 0.64048338 0.51344141 0.64357227 0.76477023]\n",
            "  [0.92785475 0.80977936 0.64914926 0.28287618 0.79575717 0.47921233]\n",
            "  [0.74674967 0.06483431 0.76154468 0.5679878  0.13659228 0.13612939]]\n",
            "\n",
            " [[0.03237623 0.02741206 0.63493924 0.12042764 0.41147006 0.8513669 ]\n",
            "  [0.38029757 0.97919306 0.21926767 0.48616039 0.12160497 0.59752639]\n",
            "  [0.86872724 0.42244408 0.92576693 0.25706558 0.1526337  0.71972493]\n",
            "  [0.98605635 0.08292244 0.73212637 0.79737068 0.86923853 0.89343758]\n",
            "  [0.53714481 0.68165647 0.36036184 0.83870525 0.92668303 0.34874681]]]\n"
          ]
        }
      ]
    },
    {
      "cell_type": "markdown",
      "source": [
        "# **ones()**"
      ],
      "metadata": {
        "id": "ESnhSZ1kYftH"
      }
    },
    {
      "cell_type": "code",
      "source": [
        "f = np.ones([4,6],dtype = 'int')\n",
        "print(f)"
      ],
      "metadata": {
        "colab": {
          "base_uri": "https://localhost:8080/"
        },
        "id": "SmWPhVBiYkKv",
        "outputId": "8041ac15-0296-4cb8-c2db-33aad1f236b8"
      },
      "execution_count": null,
      "outputs": [
        {
          "output_type": "stream",
          "name": "stdout",
          "text": [
            "[[1 1 1 1 1 1]\n",
            " [1 1 1 1 1 1]\n",
            " [1 1 1 1 1 1]\n",
            " [1 1 1 1 1 1]]\n"
          ]
        }
      ]
    },
    {
      "cell_type": "code",
      "source": [
        "f1 = np.ones([4,4,6],dtype = int)\n",
        "print(f1)"
      ],
      "metadata": {
        "colab": {
          "base_uri": "https://localhost:8080/"
        },
        "id": "KtbYhCNJYx35",
        "outputId": "5674ace1-b4b2-4eb4-d76a-1a9ffa3ca3ea"
      },
      "execution_count": null,
      "outputs": [
        {
          "output_type": "stream",
          "name": "stdout",
          "text": [
            "[[[1 1 1 1 1 1]\n",
            "  [1 1 1 1 1 1]\n",
            "  [1 1 1 1 1 1]\n",
            "  [1 1 1 1 1 1]]\n",
            "\n",
            " [[1 1 1 1 1 1]\n",
            "  [1 1 1 1 1 1]\n",
            "  [1 1 1 1 1 1]\n",
            "  [1 1 1 1 1 1]]\n",
            "\n",
            " [[1 1 1 1 1 1]\n",
            "  [1 1 1 1 1 1]\n",
            "  [1 1 1 1 1 1]\n",
            "  [1 1 1 1 1 1]]\n",
            "\n",
            " [[1 1 1 1 1 1]\n",
            "  [1 1 1 1 1 1]\n",
            "  [1 1 1 1 1 1]\n",
            "  [1 1 1 1 1 1]]]\n"
          ]
        }
      ]
    },
    {
      "cell_type": "markdown",
      "source": [
        "# **eye()**\n",
        "\n",
        "\n",
        "\n",
        "*   diagonal elements are 1 remaining are 0\n",
        "* 2/2 mtrix or 4/4 matrix\n",
        "\n"
      ],
      "metadata": {
        "id": "YFhTc4bzZc0d"
      }
    },
    {
      "cell_type": "code",
      "source": [
        "g = np.eye(5)\n",
        "print(g)"
      ],
      "metadata": {
        "colab": {
          "base_uri": "https://localhost:8080/"
        },
        "id": "yxNEDw5GaEcc",
        "outputId": "a998aeaa-a871-47e7-a004-dbd8ebd9c56d"
      },
      "execution_count": null,
      "outputs": [
        {
          "output_type": "stream",
          "name": "stdout",
          "text": [
            "[[1. 0. 0. 0. 0.]\n",
            " [0. 1. 0. 0. 0.]\n",
            " [0. 0. 1. 0. 0.]\n",
            " [0. 0. 0. 1. 0.]\n",
            " [0. 0. 0. 0. 1.]]\n"
          ]
        }
      ]
    },
    {
      "cell_type": "code",
      "source": [
        "g1 = np.eye(8)\n",
        "print(g1)"
      ],
      "metadata": {
        "colab": {
          "base_uri": "https://localhost:8080/"
        },
        "id": "GiAOwh-paMsh",
        "outputId": "5afe0c31-141a-4c7f-e43d-bc5bc67678d1"
      },
      "execution_count": null,
      "outputs": [
        {
          "output_type": "stream",
          "name": "stdout",
          "text": [
            "[[1. 0. 0. 0. 0. 0. 0. 0.]\n",
            " [0. 1. 0. 0. 0. 0. 0. 0.]\n",
            " [0. 0. 1. 0. 0. 0. 0. 0.]\n",
            " [0. 0. 0. 1. 0. 0. 0. 0.]\n",
            " [0. 0. 0. 0. 1. 0. 0. 0.]\n",
            " [0. 0. 0. 0. 0. 1. 0. 0.]\n",
            " [0. 0. 0. 0. 0. 0. 1. 0.]\n",
            " [0. 0. 0. 0. 0. 0. 0. 1.]]\n"
          ]
        }
      ]
    },
    {
      "cell_type": "markdown",
      "source": [
        "# **NUMERICAL RANGE**\n",
        "\n",
        "\n",
        "*   arange()\n",
        "*   reshape()\n",
        "*   linspace()\n",
        "*   logspace()\n",
        "\n",
        "values are printed between the given range\n",
        "\n",
        "start stop step (difference)\n",
        "\n",
        "\n"
      ],
      "metadata": {
        "id": "73QL0Tu9aaYU"
      }
    },
    {
      "cell_type": "markdown",
      "source": [
        "# **arange()**"
      ],
      "metadata": {
        "id": "ZlAtopOpbjhJ"
      }
    },
    {
      "cell_type": "code",
      "source": [
        "h = np.arange(30,50,3)\n",
        "print(h)"
      ],
      "metadata": {
        "colab": {
          "base_uri": "https://localhost:8080/"
        },
        "id": "sJk8q5C9bnIl",
        "outputId": "0d38be50-6568-40a8-c490-d94e367bbec7"
      },
      "execution_count": null,
      "outputs": [
        {
          "output_type": "stream",
          "name": "stdout",
          "text": [
            "[30 33 36 39 42 45 48]\n"
          ]
        }
      ]
    },
    {
      "cell_type": "code",
      "source": [
        "h1 = np.arange(0,100,5,dtype = float)\n",
        "print(h1)"
      ],
      "metadata": {
        "colab": {
          "base_uri": "https://localhost:8080/"
        },
        "id": "pTEOh416bw-y",
        "outputId": "31f95339-057f-4560-8229-a2410f8fc8d1"
      },
      "execution_count": null,
      "outputs": [
        {
          "output_type": "stream",
          "name": "stdout",
          "text": [
            "[ 0.  5. 10. 15. 20. 25. 30. 35. 40. 45. 50. 55. 60. 65. 70. 75. 80. 85.\n",
            " 90. 95.]\n"
          ]
        }
      ]
    },
    {
      "cell_type": "code",
      "source": [
        "h2 = np.arange(10,100,5)\n",
        "print(h2)"
      ],
      "metadata": {
        "colab": {
          "base_uri": "https://localhost:8080/"
        },
        "id": "BoD-C2Srb806",
        "outputId": "a0454f9f-a861-49d4-9144-b420954d4a55"
      },
      "execution_count": null,
      "outputs": [
        {
          "output_type": "stream",
          "name": "stdout",
          "text": [
            "[10 15 20 25 30 35 40 45 50 55 60 65 70 75 80 85 90 95]\n"
          ]
        }
      ]
    },
    {
      "cell_type": "markdown",
      "source": [
        "# **reshape()**\n",
        "\n",
        " equal division matrix"
      ],
      "metadata": {
        "id": "xNwcfgjwggxw"
      }
    },
    {
      "cell_type": "code",
      "source": [
        "a = np.array([[1,2,3,4,5],[6,7,8,9,10]])\n",
        "a.reshape(5,2)"
      ],
      "metadata": {
        "colab": {
          "base_uri": "https://localhost:8080/"
        },
        "id": "iM0yPoAyg5o6",
        "outputId": "bde8c489-7157-446a-a1e2-11bb123fef88"
      },
      "execution_count": null,
      "outputs": [
        {
          "output_type": "execute_result",
          "data": {
            "text/plain": [
              "array([[ 1,  2],\n",
              "       [ 3,  4],\n",
              "       [ 5,  6],\n",
              "       [ 7,  8],\n",
              "       [ 9, 10]])"
            ]
          },
          "metadata": {},
          "execution_count": 36
        }
      ]
    },
    {
      "cell_type": "code",
      "source": [
        "a.reshape(2,5)"
      ],
      "metadata": {
        "colab": {
          "base_uri": "https://localhost:8080/"
        },
        "id": "GlR0zjGOg_A0",
        "outputId": "70eecf45-5dd2-4bc4-a780-f1f8659b2986"
      },
      "execution_count": null,
      "outputs": [
        {
          "output_type": "execute_result",
          "data": {
            "text/plain": [
              "array([[ 1,  2,  3,  4,  5],\n",
              "       [ 6,  7,  8,  9, 10]])"
            ]
          },
          "metadata": {},
          "execution_count": 37
        }
      ]
    },
    {
      "cell_type": "code",
      "source": [
        "a.reshape(1,10)"
      ],
      "metadata": {
        "colab": {
          "base_uri": "https://localhost:8080/"
        },
        "id": "b3b3oaG2hywm",
        "outputId": "281fa3d7-815b-48e4-86f6-ca16884438f9"
      },
      "execution_count": null,
      "outputs": [
        {
          "output_type": "execute_result",
          "data": {
            "text/plain": [
              "array([[ 1,  2,  3,  4,  5,  6,  7,  8,  9, 10]])"
            ]
          },
          "metadata": {},
          "execution_count": 38
        }
      ]
    },
    {
      "cell_type": "code",
      "source": [
        "a.reshape(10,1)"
      ],
      "metadata": {
        "colab": {
          "base_uri": "https://localhost:8080/"
        },
        "id": "y6UqBZ17h5Fe",
        "outputId": "894d7c4b-a388-41c6-98a8-42ac42e3a0d6"
      },
      "execution_count": null,
      "outputs": [
        {
          "output_type": "execute_result",
          "data": {
            "text/plain": [
              "array([[ 1],\n",
              "       [ 2],\n",
              "       [ 3],\n",
              "       [ 4],\n",
              "       [ 5],\n",
              "       [ 6],\n",
              "       [ 7],\n",
              "       [ 8],\n",
              "       [ 9],\n",
              "       [10]])"
            ]
          },
          "metadata": {},
          "execution_count": 40
        }
      ]
    },
    {
      "cell_type": "code",
      "source": [
        "a = np.linspace(0,100,20,endpoint=False , retstep = True , dtype = int)\n",
        "print(a)"
      ],
      "metadata": {
        "colab": {
          "base_uri": "https://localhost:8080/"
        },
        "id": "BHNswZDnjyMv",
        "outputId": "c5ebf90f-a0fc-4d98-ce0d-0591413f6925"
      },
      "execution_count": null,
      "outputs": [
        {
          "output_type": "stream",
          "name": "stdout",
          "text": [
            "(array([ 0,  5, 10, 15, 20, 25, 30, 35, 40, 45, 50, 55, 60, 65, 70, 75, 80,\n",
            "       85, 90, 95]), 5.0)\n"
          ]
        }
      ]
    },
    {
      "cell_type": "markdown",
      "source": [
        "# **linspace()**\n",
        "\n",
        "last element is also considered"
      ],
      "metadata": {
        "id": "MWayLmOKknFr"
      }
    },
    {
      "cell_type": "code",
      "source": [
        "i = np.linspace(10,100,10)\n",
        "print(i)"
      ],
      "metadata": {
        "colab": {
          "base_uri": "https://localhost:8080/"
        },
        "id": "VjkP890Sk71a",
        "outputId": "4f28b750-ef42-47a8-80df-ff7683288cef"
      },
      "execution_count": null,
      "outputs": [
        {
          "output_type": "stream",
          "name": "stdout",
          "text": [
            "[ 10.  20.  30.  40.  50.  60.  70.  80.  90. 100.]\n"
          ]
        }
      ]
    },
    {
      "cell_type": "code",
      "source": [
        "i1 = np.linspace(10,100,10,endpoint=False) #equal intervals 10\n",
        "print(i1)"
      ],
      "metadata": {
        "colab": {
          "base_uri": "https://localhost:8080/"
        },
        "id": "6YJZQnyPlDRb",
        "outputId": "ab3547f3-6a43-438c-91b8-349846d45ec7"
      },
      "execution_count": null,
      "outputs": [
        {
          "output_type": "stream",
          "name": "stdout",
          "text": [
            "[10. 19. 28. 37. 46. 55. 64. 73. 82. 91.]\n"
          ]
        }
      ]
    },
    {
      "cell_type": "code",
      "source": [
        "i2 = np.linspace(10,100,10,endpoint = False , retstep = True , dtype = int) #equal intervals 10\n",
        "print(i2)"
      ],
      "metadata": {
        "colab": {
          "base_uri": "https://localhost:8080/"
        },
        "id": "1UgRhWT1ldYF",
        "outputId": "6bffc9bf-0b52-41d1-b6b9-91bc411cee58"
      },
      "execution_count": null,
      "outputs": [
        {
          "output_type": "stream",
          "name": "stdout",
          "text": [
            "(array([10, 19, 28, 37, 46, 55, 64, 73, 82, 91]), 9.0)\n"
          ]
        }
      ]
    },
    {
      "cell_type": "markdown",
      "source": [
        "# **logspace()**\n",
        "\n",
        "logrithemic values"
      ],
      "metadata": {
        "id": "72hWRrCUmCI4"
      }
    },
    {
      "cell_type": "code",
      "source": [
        "k = np.logspace(1,10,10,base = 2 , dtype = int )\n",
        "print(k)"
      ],
      "metadata": {
        "colab": {
          "base_uri": "https://localhost:8080/"
        },
        "id": "dv4qfEeQl4a1",
        "outputId": "60e8c653-87de-4f0e-e0a2-2fea91daa866"
      },
      "execution_count": null,
      "outputs": [
        {
          "output_type": "stream",
          "name": "stdout",
          "text": [
            "[   2    4    8   16   32   64  128  256  512 1024]\n"
          ]
        }
      ]
    },
    {
      "cell_type": "code",
      "source": [
        "k1 = np.logspace(1,10,10, dtype = int )\n",
        "print(k1)"
      ],
      "metadata": {
        "colab": {
          "base_uri": "https://localhost:8080/"
        },
        "id": "qdK8BfiZmmOf",
        "outputId": "c418fa60-3ff8-4287-dcdc-251fdddcd1c0"
      },
      "execution_count": null,
      "outputs": [
        {
          "output_type": "stream",
          "name": "stdout",
          "text": [
            "[         10         100        1000       10000      100000     1000000\n",
            "    10000000   100000000  1000000000 10000000000]\n"
          ]
        }
      ]
    },
    {
      "cell_type": "markdown",
      "source": [
        "# **ARRAY PROERTIES**\n",
        "\n",
        "#SIZE - np.size(array)\n",
        "#SHAPE - np.shape(array)\n",
        "#DTYPE - a.dtype"
      ],
      "metadata": {
        "id": "m_zDrF1km32o"
      }
    },
    {
      "cell_type": "code",
      "source": [
        "l = np.arange(10,100,10)\n",
        "l"
      ],
      "metadata": {
        "colab": {
          "base_uri": "https://localhost:8080/"
        },
        "id": "fD9N5u0jmwbI",
        "outputId": "b307949b-b4e0-40b5-f4e7-3d3973e137dc"
      },
      "execution_count": null,
      "outputs": [
        {
          "output_type": "execute_result",
          "data": {
            "text/plain": [
              "array([10, 20, 30, 40, 50, 60, 70, 80, 90])"
            ]
          },
          "metadata": {},
          "execution_count": 55
        }
      ]
    },
    {
      "cell_type": "code",
      "source": [
        "l1 = l.reshape(3,3)\n",
        "l1"
      ],
      "metadata": {
        "colab": {
          "base_uri": "https://localhost:8080/"
        },
        "id": "kUN7-HYSnrRi",
        "outputId": "c14f5145-8f78-4d22-c122-a77180cec807"
      },
      "execution_count": null,
      "outputs": [
        {
          "output_type": "execute_result",
          "data": {
            "text/plain": [
              "array([[10, 20, 30],\n",
              "       [40, 50, 60],\n",
              "       [70, 80, 90]])"
            ]
          },
          "metadata": {},
          "execution_count": 56
        }
      ]
    },
    {
      "cell_type": "code",
      "source": [
        "np.size(l1)"
      ],
      "metadata": {
        "colab": {
          "base_uri": "https://localhost:8080/"
        },
        "id": "jp1P8r9nnxg6",
        "outputId": "4fa724cd-9ad2-4783-99ab-31a4f9b80e82"
      },
      "execution_count": null,
      "outputs": [
        {
          "output_type": "execute_result",
          "data": {
            "text/plain": [
              "9"
            ]
          },
          "metadata": {},
          "execution_count": 57
        }
      ]
    },
    {
      "cell_type": "code",
      "source": [
        "l1.dtype"
      ],
      "metadata": {
        "colab": {
          "base_uri": "https://localhost:8080/"
        },
        "id": "0IYeGti-n0ma",
        "outputId": "595bc617-fe5b-4a7d-9997-4c24a3b2ef1b"
      },
      "execution_count": null,
      "outputs": [
        {
          "output_type": "execute_result",
          "data": {
            "text/plain": [
              "dtype('int64')"
            ]
          },
          "metadata": {},
          "execution_count": 60
        }
      ]
    },
    {
      "cell_type": "code",
      "source": [
        "l2 = np.array([10,20,30],dtype = float)\n",
        "print(l2)"
      ],
      "metadata": {
        "colab": {
          "base_uri": "https://localhost:8080/"
        },
        "id": "jiFGyViVn4PK",
        "outputId": "f2e398be-b47d-4743-c76b-4735ac81d5f6"
      },
      "execution_count": null,
      "outputs": [
        {
          "output_type": "stream",
          "name": "stdout",
          "text": [
            "[10. 20. 30.]\n"
          ]
        }
      ]
    },
    {
      "cell_type": "code",
      "source": [
        "l2.dtype"
      ],
      "metadata": {
        "colab": {
          "base_uri": "https://localhost:8080/"
        },
        "id": "ZntIvt2goJkj",
        "outputId": "3260ebee-31bf-4c71-9cc0-f034d3fb4e2f"
      },
      "execution_count": null,
      "outputs": [
        {
          "output_type": "execute_result",
          "data": {
            "text/plain": [
              "dtype('float64')"
            ]
          },
          "metadata": {},
          "execution_count": 63
        }
      ]
    },
    {
      "cell_type": "markdown",
      "source": [
        "# **ARRAY OPERATIONS**\n",
        "\n",
        "\n",
        "*   Accessing the elements\n",
        "*   Slcing -Means extractin some portion of data\n",
        "\n",
        "Accesing and slicing operations\n",
        "\n",
        "\n",
        "\n",
        "\n",
        "\n",
        "1.   concatenate()\n",
        "2.   copy()\n",
        "3. stack()\n",
        "4. view\n",
        "5. vstack()\n",
        "6. sort()\n",
        "7. dstack()\n",
        "8. reshape()\n",
        "9. hstack()\n",
        "10. append()\n",
        "11. split()\n",
        "12. insert()\n",
        "13. where()\n",
        "14. delete()\n",
        "15. searchsorted()\n",
        "\n",
        "\n",
        "\n",
        "\n",
        "\n",
        "\n",
        "\n",
        "\n",
        "\n",
        "\n"
      ],
      "metadata": {
        "id": "-udYI5lDoURp"
      }
    },
    {
      "cell_type": "markdown",
      "source": [
        "# **Accessing and slicing operations**"
      ],
      "metadata": {
        "id": "1WPmXr9SrwQH"
      }
    },
    {
      "cell_type": "code",
      "source": [
        "m = np.array([[23,34,45,56,67,78],[12,13,14,15,16,17]])\n",
        "print(m)"
      ],
      "metadata": {
        "colab": {
          "base_uri": "https://localhost:8080/"
        },
        "id": "XkWmYxnAr4hB",
        "outputId": "2378fc61-4524-48fb-fbe8-b8a17a90cea1"
      },
      "execution_count": null,
      "outputs": [
        {
          "output_type": "stream",
          "name": "stdout",
          "text": [
            "[[23 34 45 56 67 78]\n",
            " [12 13 14 15 16 17]]\n"
          ]
        }
      ]
    },
    {
      "cell_type": "code",
      "source": [
        "m[0]"
      ],
      "metadata": {
        "colab": {
          "base_uri": "https://localhost:8080/"
        },
        "id": "E1x__okrsMe2",
        "outputId": "2e7fda13-ae48-4801-a1d5-f1b4b811b048"
      },
      "execution_count": null,
      "outputs": [
        {
          "output_type": "execute_result",
          "data": {
            "text/plain": [
              "array([23, 34, 45, 56, 67, 78])"
            ]
          },
          "metadata": {},
          "execution_count": 65
        }
      ]
    },
    {
      "cell_type": "code",
      "source": [
        "m[1]"
      ],
      "metadata": {
        "colab": {
          "base_uri": "https://localhost:8080/"
        },
        "id": "sUJJX6GbsPp7",
        "outputId": "7b6a692a-0cbb-474d-84c7-9df02dc485bf"
      },
      "execution_count": null,
      "outputs": [
        {
          "output_type": "execute_result",
          "data": {
            "text/plain": [
              "array([12, 13, 14, 15, 16, 17])"
            ]
          },
          "metadata": {},
          "execution_count": 67
        }
      ]
    },
    {
      "cell_type": "code",
      "source": [
        "m[1][4]"
      ],
      "metadata": {
        "colab": {
          "base_uri": "https://localhost:8080/"
        },
        "id": "GT5R_JzosRpr",
        "outputId": "7f927986-aa27-4ce9-a7fe-1763f29d37b7"
      },
      "execution_count": null,
      "outputs": [
        {
          "output_type": "execute_result",
          "data": {
            "text/plain": [
              "16"
            ]
          },
          "metadata": {},
          "execution_count": 68
        }
      ]
    },
    {
      "cell_type": "code",
      "source": [
        "m1 = np.arange(10,200,10)\n",
        "print(m1)"
      ],
      "metadata": {
        "colab": {
          "base_uri": "https://localhost:8080/"
        },
        "id": "pGSCLUDjsYxA",
        "outputId": "b5bc01d1-740c-4c77-8a24-5b45b4b451e9"
      },
      "execution_count": null,
      "outputs": [
        {
          "output_type": "stream",
          "name": "stdout",
          "text": [
            "[ 10  20  30  40  50  60  70  80  90 100 110 120 130 140 150 160 170 180\n",
            " 190]\n"
          ]
        }
      ]
    },
    {
      "cell_type": "code",
      "source": [
        "h[5:16]"
      ],
      "metadata": {
        "colab": {
          "base_uri": "https://localhost:8080/"
        },
        "id": "wZdj-O3YslHL",
        "outputId": "000fe686-f8e7-4cab-be7f-69aa1dfa0d8c"
      },
      "execution_count": null,
      "outputs": [
        {
          "output_type": "execute_result",
          "data": {
            "text/plain": [
              "array([45, 48])"
            ]
          },
          "metadata": {},
          "execution_count": 70
        }
      ]
    },
    {
      "cell_type": "code",
      "source": [
        "m2 = np.arange(10,3000,10)\n",
        "print(m2)"
      ],
      "metadata": {
        "colab": {
          "base_uri": "https://localhost:8080/"
        },
        "id": "ACc13y7OswFz",
        "outputId": "51a4ba04-5c2b-4305-e906-db5709992295"
      },
      "execution_count": null,
      "outputs": [
        {
          "output_type": "stream",
          "name": "stdout",
          "text": [
            "[  10   20   30   40   50   60   70   80   90  100  110  120  130  140\n",
            "  150  160  170  180  190  200  210  220  230  240  250  260  270  280\n",
            "  290  300  310  320  330  340  350  360  370  380  390  400  410  420\n",
            "  430  440  450  460  470  480  490  500  510  520  530  540  550  560\n",
            "  570  580  590  600  610  620  630  640  650  660  670  680  690  700\n",
            "  710  720  730  740  750  760  770  780  790  800  810  820  830  840\n",
            "  850  860  870  880  890  900  910  920  930  940  950  960  970  980\n",
            "  990 1000 1010 1020 1030 1040 1050 1060 1070 1080 1090 1100 1110 1120\n",
            " 1130 1140 1150 1160 1170 1180 1190 1200 1210 1220 1230 1240 1250 1260\n",
            " 1270 1280 1290 1300 1310 1320 1330 1340 1350 1360 1370 1380 1390 1400\n",
            " 1410 1420 1430 1440 1450 1460 1470 1480 1490 1500 1510 1520 1530 1540\n",
            " 1550 1560 1570 1580 1590 1600 1610 1620 1630 1640 1650 1660 1670 1680\n",
            " 1690 1700 1710 1720 1730 1740 1750 1760 1770 1780 1790 1800 1810 1820\n",
            " 1830 1840 1850 1860 1870 1880 1890 1900 1910 1920 1930 1940 1950 1960\n",
            " 1970 1980 1990 2000 2010 2020 2030 2040 2050 2060 2070 2080 2090 2100\n",
            " 2110 2120 2130 2140 2150 2160 2170 2180 2190 2200 2210 2220 2230 2240\n",
            " 2250 2260 2270 2280 2290 2300 2310 2320 2330 2340 2350 2360 2370 2380\n",
            " 2390 2400 2410 2420 2430 2440 2450 2460 2470 2480 2490 2500 2510 2520\n",
            " 2530 2540 2550 2560 2570 2580 2590 2600 2610 2620 2630 2640 2650 2660\n",
            " 2670 2680 2690 2700 2710 2720 2730 2740 2750 2760 2770 2780 2790 2800\n",
            " 2810 2820 2830 2840 2850 2860 2870 2880 2890 2900 2910 2920 2930 2940\n",
            " 2950 2960 2970 2980 2990]\n"
          ]
        }
      ]
    },
    {
      "cell_type": "code",
      "source": [
        "m2[212:312]"
      ],
      "metadata": {
        "colab": {
          "base_uri": "https://localhost:8080/"
        },
        "id": "g2zAkrlftRiY",
        "outputId": "794f51a3-15b4-4963-af6a-0f60e004c5f6"
      },
      "execution_count": null,
      "outputs": [
        {
          "output_type": "execute_result",
          "data": {
            "text/plain": [
              "array([2130, 2140, 2150, 2160, 2170, 2180, 2190, 2200, 2210, 2220, 2230,\n",
              "       2240, 2250, 2260, 2270, 2280, 2290, 2300, 2310, 2320, 2330, 2340,\n",
              "       2350, 2360, 2370, 2380, 2390, 2400, 2410, 2420, 2430, 2440, 2450,\n",
              "       2460, 2470, 2480, 2490, 2500, 2510, 2520, 2530, 2540, 2550, 2560,\n",
              "       2570, 2580, 2590, 2600, 2610, 2620, 2630, 2640, 2650, 2660, 2670,\n",
              "       2680, 2690, 2700, 2710, 2720, 2730, 2740, 2750, 2760, 2770, 2780,\n",
              "       2790, 2800, 2810, 2820, 2830, 2840, 2850, 2860, 2870, 2880, 2890,\n",
              "       2900, 2910, 2920, 2930, 2940, 2950, 2960, 2970, 2980, 2990])"
            ]
          },
          "metadata": {},
          "execution_count": 72
        }
      ]
    },
    {
      "cell_type": "markdown",
      "source": [
        "# **copy()**\n",
        "\n",
        "copyng one array eements into another array"
      ],
      "metadata": {
        "id": "2Td9D36UuxQq"
      }
    },
    {
      "cell_type": "code",
      "source": [
        "n = np.array([[234,235,236,237],[123,124,125,126]])\n",
        "print(n)"
      ],
      "metadata": {
        "colab": {
          "base_uri": "https://localhost:8080/"
        },
        "id": "RkhuK13rxhaQ",
        "outputId": "ba1fcffd-dd52-4ee7-d1ab-d661c7bdc989"
      },
      "execution_count": null,
      "outputs": [
        {
          "output_type": "stream",
          "name": "stdout",
          "text": [
            "[[234 235 236 237]\n",
            " [123 124 125 126]]\n"
          ]
        }
      ]
    },
    {
      "cell_type": "code",
      "source": [
        "n1 = np.copy(n)\n",
        "print(n1)"
      ],
      "metadata": {
        "colab": {
          "base_uri": "https://localhost:8080/"
        },
        "id": "FT9aAq5bx1u6",
        "outputId": "5f581c1d-a144-417b-9ae2-e8912386a605"
      },
      "execution_count": null,
      "outputs": [
        {
          "output_type": "stream",
          "name": "stdout",
          "text": [
            "[[234 235 236 237]\n",
            " [123 124 125 126]]\n"
          ]
        }
      ]
    },
    {
      "cell_type": "code",
      "source": [
        "print(n,n1)"
      ],
      "metadata": {
        "id": "e9kJCSxHx8es",
        "colab": {
          "base_uri": "https://localhost:8080/"
        },
        "outputId": "4a4caf25-da93-44ca-ffc3-b69b83145e75"
      },
      "execution_count": null,
      "outputs": [
        {
          "output_type": "stream",
          "name": "stdout",
          "text": [
            "[[234 235 236 237]\n",
            " [123 124 125 126]] [[234 235 236 237]\n",
            " [123 124 125 126]]\n"
          ]
        }
      ]
    },
    {
      "cell_type": "markdown",
      "source": [
        "# **view**\n",
        "\n",
        "similiar to copy but acts like a reference"
      ],
      "metadata": {
        "id": "wyyG0ZeZR-ZR"
      }
    },
    {
      "cell_type": "code",
      "source": [
        "n2 = n1.view()\n",
        "print(n2)"
      ],
      "metadata": {
        "colab": {
          "base_uri": "https://localhost:8080/"
        },
        "id": "A2vo22qCRU3G",
        "outputId": "e2ddd507-f0ac-47c4-eed6-1aed9d15fde2"
      },
      "execution_count": null,
      "outputs": [
        {
          "output_type": "stream",
          "name": "stdout",
          "text": [
            "[[234 235 236 237]\n",
            " [123 124 125 126]]\n"
          ]
        }
      ]
    },
    {
      "cell_type": "code",
      "source": [
        " print(\"n = \",n)\n",
        " print(\"n1 = \",n)\n",
        " print(\"n2= \",n)"
      ],
      "metadata": {
        "colab": {
          "base_uri": "https://localhost:8080/"
        },
        "id": "gZK5jaARSWam",
        "outputId": "dd8acfb1-f8b7-471b-cb02-b15e7ba7ecbb"
      },
      "execution_count": null,
      "outputs": [
        {
          "output_type": "stream",
          "name": "stdout",
          "text": [
            "n =  [[234 235 236 237]\n",
            " [123 124 125 126]]\n",
            "n1 =  [[234 235 236 237]\n",
            " [123 124 125 126]]\n",
            "n2=  [[234 235 236 237]\n",
            " [123 124 125 126]]\n"
          ]
        }
      ]
    },
    {
      "cell_type": "code",
      "source": [
        "n1"
      ],
      "metadata": {
        "colab": {
          "base_uri": "https://localhost:8080/"
        },
        "id": "gk8K-Na4S4hs",
        "outputId": "9dc11ddb-6645-423b-cb9f-e2b164a92c78"
      },
      "execution_count": null,
      "outputs": [
        {
          "output_type": "execute_result",
          "data": {
            "text/plain": [
              "array([[234, 235, 236, 237],\n",
              "       [123, 124, 125, 126]])"
            ]
          },
          "metadata": {},
          "execution_count": 11
        }
      ]
    },
    {
      "cell_type": "code",
      "source": [
        "n2"
      ],
      "metadata": {
        "colab": {
          "base_uri": "https://localhost:8080/"
        },
        "id": "9XXIHkotS6Jt",
        "outputId": "ca88ea00-9e4d-414f-e712-e61f62279952"
      },
      "execution_count": null,
      "outputs": [
        {
          "output_type": "execute_result",
          "data": {
            "text/plain": [
              "array([[234, 235, 236, 237],\n",
              "       [123, 124, 125, 126]])"
            ]
          },
          "metadata": {},
          "execution_count": 12
        }
      ]
    },
    {
      "cell_type": "code",
      "source": [
        "n[1][2] = 777\n",
        "print(n)"
      ],
      "metadata": {
        "colab": {
          "base_uri": "https://localhost:8080/"
        },
        "id": "Jyw1ielFS9XM",
        "outputId": "db922ac9-d000-4cdd-ca60-4d253435d326"
      },
      "execution_count": null,
      "outputs": [
        {
          "output_type": "stream",
          "name": "stdout",
          "text": [
            "[[234 235 236 237]\n",
            " [123 124 777 126]]\n"
          ]
        }
      ]
    },
    {
      "cell_type": "code",
      "source": [
        "n1"
      ],
      "metadata": {
        "colab": {
          "base_uri": "https://localhost:8080/"
        },
        "id": "XQHSOjVqTF3v",
        "outputId": "2fe1d7b7-54f0-4b4e-f59a-59380ebd7eb9"
      },
      "execution_count": null,
      "outputs": [
        {
          "output_type": "execute_result",
          "data": {
            "text/plain": [
              "array([[234, 235, 236, 237],\n",
              "       [123, 124, 125, 126]])"
            ]
          },
          "metadata": {},
          "execution_count": 15
        }
      ]
    },
    {
      "cell_type": "code",
      "source": [
        "n1[0][1] = 999\n",
        "n1"
      ],
      "metadata": {
        "colab": {
          "base_uri": "https://localhost:8080/"
        },
        "id": "OkfOPVq2TN5g",
        "outputId": "867d6c08-7bbd-420b-e5d0-aaa5bb49d148"
      },
      "execution_count": null,
      "outputs": [
        {
          "output_type": "execute_result",
          "data": {
            "text/plain": [
              "array([[234, 999, 236, 237],\n",
              "       [123, 124, 125, 126]])"
            ]
          },
          "metadata": {},
          "execution_count": 16
        }
      ]
    },
    {
      "cell_type": "code",
      "source": [
        "n2"
      ],
      "metadata": {
        "colab": {
          "base_uri": "https://localhost:8080/"
        },
        "id": "8g2rrX1_TV4A",
        "outputId": "41eb62b2-8687-4a6b-ec7a-bce6c066957e"
      },
      "execution_count": null,
      "outputs": [
        {
          "output_type": "execute_result",
          "data": {
            "text/plain": [
              "array([[234, 999, 236, 237],\n",
              "       [123, 124, 125, 126]])"
            ]
          },
          "metadata": {},
          "execution_count": 17
        }
      ]
    },
    {
      "cell_type": "markdown",
      "source": [
        "# **sort**\n",
        "\n",
        "sorting the elements"
      ],
      "metadata": {
        "id": "wnEe3w7jTd1q"
      }
    },
    {
      "cell_type": "code",
      "source": [
        "a = np.array([4535,5674,7864,9876,1234,5738,2967,2336])\n",
        "print(a)"
      ],
      "metadata": {
        "colab": {
          "base_uri": "https://localhost:8080/"
        },
        "id": "aZcfDHIUTk8s",
        "outputId": "5669ce0d-ed24-4933-cbdc-e52ae22eb6a3"
      },
      "execution_count": null,
      "outputs": [
        {
          "output_type": "stream",
          "name": "stdout",
          "text": [
            "[4535 5674 7864 9876 1234 5738 2967 2336]\n"
          ]
        }
      ]
    },
    {
      "cell_type": "code",
      "source": [
        "np.sort(a)"
      ],
      "metadata": {
        "colab": {
          "base_uri": "https://localhost:8080/"
        },
        "id": "A5vkmeZ2TypO",
        "outputId": "530f31a4-841e-4b5c-9053-10717915c30f"
      },
      "execution_count": null,
      "outputs": [
        {
          "output_type": "execute_result",
          "data": {
            "text/plain": [
              "array([1234, 2336, 2967, 4535, 5674, 5738, 7864, 9876])"
            ]
          },
          "metadata": {},
          "execution_count": 19
        }
      ]
    },
    {
      "cell_type": "code",
      "source": [
        "a = a.reshape(4,2)\n",
        "print(a)"
      ],
      "metadata": {
        "colab": {
          "base_uri": "https://localhost:8080/"
        },
        "id": "paCcVUPeT3YP",
        "outputId": "8b03f917-2ddf-4fd6-bd58-ea894d06c8bb"
      },
      "execution_count": null,
      "outputs": [
        {
          "output_type": "stream",
          "name": "stdout",
          "text": [
            "[[4535 5674]\n",
            " [7864 9876]\n",
            " [1234 5738]\n",
            " [2967 2336]]\n"
          ]
        }
      ]
    },
    {
      "cell_type": "code",
      "source": [
        "a = a.reshape(2,4)\n",
        "print(a)"
      ],
      "metadata": {
        "colab": {
          "base_uri": "https://localhost:8080/"
        },
        "id": "d2hpu2jrT8Ne",
        "outputId": "e0204f55-1ac7-4a7d-90ac-f915256e3896"
      },
      "execution_count": null,
      "outputs": [
        {
          "output_type": "stream",
          "name": "stdout",
          "text": [
            "[[4535 5674 7864 9876]\n",
            " [1234 5738 2967 2336]]\n"
          ]
        }
      ]
    },
    {
      "cell_type": "code",
      "source": [
        "a = a.reshape(8,1)\n",
        "print(a)"
      ],
      "metadata": {
        "colab": {
          "base_uri": "https://localhost:8080/"
        },
        "id": "WxROtwwkUMav",
        "outputId": "c6284ca9-8cc1-45a7-a1fe-949fec11f77d"
      },
      "execution_count": null,
      "outputs": [
        {
          "output_type": "stream",
          "name": "stdout",
          "text": [
            "[[4535]\n",
            " [5674]\n",
            " [7864]\n",
            " [9876]\n",
            " [1234]\n",
            " [5738]\n",
            " [2967]\n",
            " [2336]]\n"
          ]
        }
      ]
    },
    {
      "cell_type": "code",
      "source": [
        "a = a.reshape(1,8)\n",
        "print(a)"
      ],
      "metadata": {
        "colab": {
          "base_uri": "https://localhost:8080/"
        },
        "id": "xS_c2w9gUZe7",
        "outputId": "55ef5081-cac4-452f-cff5-d9bb8bb2158d"
      },
      "execution_count": null,
      "outputs": [
        {
          "output_type": "stream",
          "name": "stdout",
          "text": [
            "[[4535 5674 7864 9876 1234 5738 2967 2336]]\n"
          ]
        }
      ]
    },
    {
      "cell_type": "markdown",
      "source": [
        "# **Based on Axis Medium , functions are implemented**\n",
        "\n",
        "\n",
        "\n",
        "1.   Axis : 0 means column wise operations\n",
        "\n",
        "2.   Axis : 1 row column wise operations\n",
        "\n",
        "\n"
      ],
      "metadata": {
        "id": "cPEnPCP4U7pn"
      }
    },
    {
      "cell_type": "code",
      "source": [
        "a = np.array([[234,456,789,123,999,899],[543,654,765,876,987,876]])\n",
        "print(a)"
      ],
      "metadata": {
        "colab": {
          "base_uri": "https://localhost:8080/"
        },
        "id": "OrsMkvdbV_jA",
        "outputId": "65f8c303-b711-4294-b37f-d0189ad0c233"
      },
      "execution_count": null,
      "outputs": [
        {
          "output_type": "stream",
          "name": "stdout",
          "text": [
            "[[234 456 789 123 999 899]\n",
            " [543 654 765 876 987 876]]\n"
          ]
        }
      ]
    },
    {
      "cell_type": "code",
      "source": [
        "np.sort(a,axis = 0) #coloumn wise elements are sorted"
      ],
      "metadata": {
        "colab": {
          "base_uri": "https://localhost:8080/"
        },
        "id": "1kXEeC3OWiYN",
        "outputId": "e05ca35b-2718-4b47-8f33-e2a19c89bf9b"
      },
      "execution_count": null,
      "outputs": [
        {
          "output_type": "execute_result",
          "data": {
            "text/plain": [
              "array([[234, 456, 765, 123, 987, 876],\n",
              "       [543, 654, 789, 876, 999, 899]])"
            ]
          },
          "metadata": {},
          "execution_count": 33
        }
      ]
    },
    {
      "cell_type": "code",
      "source": [
        "np.sort(a,axis = 1) #row wise elements are sorted"
      ],
      "metadata": {
        "colab": {
          "base_uri": "https://localhost:8080/"
        },
        "id": "gqzlpmDqWzTc",
        "outputId": "e18f5635-6b30-4ac4-950a-0338d9365eaa"
      },
      "execution_count": null,
      "outputs": [
        {
          "output_type": "execute_result",
          "data": {
            "text/plain": [
              "array([[123, 234, 456, 789, 899, 999],\n",
              "       [543, 654, 765, 876, 876, 987]])"
            ]
          },
          "metadata": {},
          "execution_count": 34
        }
      ]
    },
    {
      "cell_type": "code",
      "source": [],
      "metadata": {
        "id": "9xX0Rv9LXJ_V"
      },
      "execution_count": null,
      "outputs": []
    },
    {
      "cell_type": "markdown",
      "source": [
        "#**In single dimension it will sort automatically**\n",
        "#**In multi Dimension it will be sorted based on Axis**\n",
        "#**If we dont mention anything , by default it takes row wise Axis-Operations**\n"
      ],
      "metadata": {
        "id": "VMIZRm5fXQnS"
      }
    },
    {
      "cell_type": "code",
      "source": [
        "d = np.dtype([('name','S1'),('perc',float)])"
      ],
      "metadata": {
        "id": "u_wEbZBgYYyo"
      },
      "execution_count": null,
      "outputs": []
    },
    {
      "cell_type": "code",
      "source": [
        "marks = np.array([(\"h\",99.8),(\"I\",98.3),(\"a\",99.9)],dtype = d)\n"
      ],
      "metadata": {
        "id": "lpQcAsMsY_lQ"
      },
      "execution_count": null,
      "outputs": []
    },
    {
      "cell_type": "code",
      "source": [
        "marks"
      ],
      "metadata": {
        "colab": {
          "base_uri": "https://localhost:8080/"
        },
        "id": "O2x-t7ggZRn4",
        "outputId": "4e08e6e2-d11b-4d19-a2c5-e9f87fc81b0a"
      },
      "execution_count": null,
      "outputs": [
        {
          "output_type": "execute_result",
          "data": {
            "text/plain": [
              "array([(b'h', 99.8), (b'I', 98.3), (b'a', 99.9)],\n",
              "      dtype=[('name', 'S1'), ('perc', '<f8')])"
            ]
          },
          "metadata": {},
          "execution_count": 42
        }
      ]
    },
    {
      "cell_type": "code",
      "source": [
        "np.sort(marks , order = \"name\")"
      ],
      "metadata": {
        "colab": {
          "base_uri": "https://localhost:8080/"
        },
        "id": "XyIN33YoZUcK",
        "outputId": "e78f5319-3a55-467c-8125-6ac58dd9b4f6"
      },
      "execution_count": null,
      "outputs": [
        {
          "output_type": "execute_result",
          "data": {
            "text/plain": [
              "array([(b'I', 98.3), (b'a', 99.9), (b'h', 99.8)],\n",
              "      dtype=[('name', 'S1'), ('perc', '<f8')])"
            ]
          },
          "metadata": {},
          "execution_count": 43
        }
      ]
    },
    {
      "cell_type": "code",
      "source": [
        "np.sort(marks , order = \"perc\")"
      ],
      "metadata": {
        "colab": {
          "base_uri": "https://localhost:8080/"
        },
        "id": "BBNfmM4zZ_wn",
        "outputId": "73b3493f-52bf-474a-cb7a-c975a7165d71"
      },
      "execution_count": null,
      "outputs": [
        {
          "output_type": "execute_result",
          "data": {
            "text/plain": [
              "array([(b'I', 98.3), (b'h', 99.8), (b'a', 99.9)],\n",
              "      dtype=[('name', 'S1'), ('perc', '<f8')])"
            ]
          },
          "metadata": {},
          "execution_count": 44
        }
      ]
    },
    {
      "cell_type": "markdown",
      "source": [
        "# **reshape**"
      ],
      "metadata": {
        "id": "4P9eLpdPaTrz"
      }
    },
    {
      "cell_type": "code",
      "source": [
        "a = np.array([234,345,456,567,678,789,890,999,111,222,333,345])\n",
        "print(a)"
      ],
      "metadata": {
        "colab": {
          "base_uri": "https://localhost:8080/"
        },
        "id": "m--x3_j8azer",
        "outputId": "053ee48f-e6ae-477d-ed26-817768c84090"
      },
      "execution_count": null,
      "outputs": [
        {
          "output_type": "stream",
          "name": "stdout",
          "text": [
            "[234 345 456 567 678 789 890 999 111 222 333 345]\n"
          ]
        }
      ]
    },
    {
      "cell_type": "code",
      "source": [
        "a.reshape(2,6)"
      ],
      "metadata": {
        "colab": {
          "base_uri": "https://localhost:8080/"
        },
        "id": "gJID2Ov7a37_",
        "outputId": "03ef3dd9-f921-4022-a2f2-b79eb6acd677"
      },
      "execution_count": null,
      "outputs": [
        {
          "output_type": "execute_result",
          "data": {
            "text/plain": [
              "array([[234, 345, 456, 567, 678, 789],\n",
              "       [890, 999, 111, 222, 333, 345]])"
            ]
          },
          "metadata": {},
          "execution_count": 47
        }
      ]
    },
    {
      "cell_type": "code",
      "source": [
        "a = np.arange(20,180,10)\n",
        "print(a)"
      ],
      "metadata": {
        "colab": {
          "base_uri": "https://localhost:8080/"
        },
        "id": "6LykKa8ca7JN",
        "outputId": "5b57f799-6671-4936-d0af-d38e89a3e2f7"
      },
      "execution_count": null,
      "outputs": [
        {
          "output_type": "stream",
          "name": "stdout",
          "text": [
            "[ 20  30  40  50  60  70  80  90 100 110 120 130 140 150 160 170]\n"
          ]
        }
      ]
    },
    {
      "cell_type": "code",
      "source": [
        "a.reshape(2,8)"
      ],
      "metadata": {
        "colab": {
          "base_uri": "https://localhost:8080/"
        },
        "id": "UJlohRmPbCyY",
        "outputId": "aaa73fc8-a3a3-4820-9b5f-c629e5ccdc2c"
      },
      "execution_count": null,
      "outputs": [
        {
          "output_type": "execute_result",
          "data": {
            "text/plain": [
              "array([[ 20,  30,  40,  50,  60,  70,  80,  90],\n",
              "       [100, 110, 120, 130, 140, 150, 160, 170]])"
            ]
          },
          "metadata": {},
          "execution_count": 50
        }
      ]
    },
    {
      "cell_type": "code",
      "source": [
        "a.reshape(8,2)"
      ],
      "metadata": {
        "colab": {
          "base_uri": "https://localhost:8080/"
        },
        "id": "guLxwAh6bKDM",
        "outputId": "dc72261a-06c9-403c-a16b-f189eb4630d7"
      },
      "execution_count": null,
      "outputs": [
        {
          "output_type": "execute_result",
          "data": {
            "text/plain": [
              "array([[ 20,  30],\n",
              "       [ 40,  50],\n",
              "       [ 60,  70],\n",
              "       [ 80,  90],\n",
              "       [100, 110],\n",
              "       [120, 130],\n",
              "       [140, 150],\n",
              "       [160, 170]])"
            ]
          },
          "metadata": {},
          "execution_count": 51
        }
      ]
    },
    {
      "cell_type": "code",
      "source": [
        "a.reshape(4,4)"
      ],
      "metadata": {
        "colab": {
          "base_uri": "https://localhost:8080/"
        },
        "id": "Yjs3b1f5bNgF",
        "outputId": "5e550e66-ceb5-4d65-fa46-3108c46571b3"
      },
      "execution_count": null,
      "outputs": [
        {
          "output_type": "execute_result",
          "data": {
            "text/plain": [
              "array([[ 20,  30,  40,  50],\n",
              "       [ 60,  70,  80,  90],\n",
              "       [100, 110, 120, 130],\n",
              "       [140, 150, 160, 170]])"
            ]
          },
          "metadata": {},
          "execution_count": 52
        }
      ]
    },
    {
      "cell_type": "code",
      "source": [
        "a.reshape(2,4,2)"
      ],
      "metadata": {
        "colab": {
          "base_uri": "https://localhost:8080/"
        },
        "id": "cfYc88fGbQaP",
        "outputId": "fb67c1a3-3ef3-4174-a756-78a1adcfd6a4"
      },
      "execution_count": null,
      "outputs": [
        {
          "output_type": "execute_result",
          "data": {
            "text/plain": [
              "array([[[ 20,  30],\n",
              "        [ 40,  50],\n",
              "        [ 60,  70],\n",
              "        [ 80,  90]],\n",
              "\n",
              "       [[100, 110],\n",
              "        [120, 130],\n",
              "        [140, 150],\n",
              "        [160, 170]]])"
            ]
          },
          "metadata": {},
          "execution_count": 53
        }
      ]
    },
    {
      "cell_type": "code",
      "source": [
        "a.reshape(2,2,2,2)"
      ],
      "metadata": {
        "colab": {
          "base_uri": "https://localhost:8080/"
        },
        "id": "VEkEH0OgbUSW",
        "outputId": "65a814be-e15e-471a-abed-babb5c191714"
      },
      "execution_count": null,
      "outputs": [
        {
          "output_type": "execute_result",
          "data": {
            "text/plain": [
              "array([[[[ 20,  30],\n",
              "         [ 40,  50]],\n",
              "\n",
              "        [[ 60,  70],\n",
              "         [ 80,  90]]],\n",
              "\n",
              "\n",
              "       [[[100, 110],\n",
              "         [120, 130]],\n",
              "\n",
              "        [[140, 150],\n",
              "         [160, 170]]]])"
            ]
          },
          "metadata": {},
          "execution_count": 54
        }
      ]
    },
    {
      "cell_type": "markdown",
      "source": [
        "# **append**\n",
        "\n",
        "append is applied between arrays\n",
        "\n"
      ],
      "metadata": {
        "id": "1BWgqQJTbZ5n"
      }
    },
    {
      "cell_type": "code",
      "source": [
        "a = np.array([234,345,456,567,678,578,789,890,901,122,132,111])\n",
        "print(a)"
      ],
      "metadata": {
        "colab": {
          "base_uri": "https://localhost:8080/"
        },
        "id": "FW_MB8JpbXTJ",
        "outputId": "9737eb90-8fae-4a7d-81e4-e913eecf7b9c"
      },
      "execution_count": null,
      "outputs": [
        {
          "output_type": "stream",
          "name": "stdout",
          "text": [
            "[234 345 456 567 678 578 789 890 901 122 132 111]\n"
          ]
        }
      ]
    },
    {
      "cell_type": "code",
      "source": [
        "b = np.array([234,345,456,467,178,878,719,800,911,822,112,111])\n",
        "print(b)\n"
      ],
      "metadata": {
        "colab": {
          "base_uri": "https://localhost:8080/"
        },
        "id": "kxMnCtzkb8tD",
        "outputId": "6cd46a4c-2a95-46fe-866e-3fb80234e910"
      },
      "execution_count": null,
      "outputs": [
        {
          "output_type": "stream",
          "name": "stdout",
          "text": [
            "[234 345 456 467 178 878 719 800 911 822 112 111]\n"
          ]
        }
      ]
    },
    {
      "cell_type": "code",
      "source": [
        "np.append(a,b)"
      ],
      "metadata": {
        "colab": {
          "base_uri": "https://localhost:8080/"
        },
        "id": "Ce2Lmy87cR0t",
        "outputId": "31294c3a-97f9-40e5-a07e-dda10a54c034"
      },
      "execution_count": null,
      "outputs": [
        {
          "output_type": "execute_result",
          "data": {
            "text/plain": [
              "array([234, 345, 456, 567, 678, 578, 789, 890, 901, 122, 132, 111, 234,\n",
              "       345, 456, 467, 178, 878, 719, 800, 911, 822, 112, 111])"
            ]
          },
          "metadata": {},
          "execution_count": 10
        }
      ]
    },
    {
      "cell_type": "code",
      "source": [
        "a = np.array([[234,345,456,567,678,578],[789,890,901,122,132,111]])\n",
        "print(a)"
      ],
      "metadata": {
        "colab": {
          "base_uri": "https://localhost:8080/"
        },
        "id": "7JA_AbKCcZX_",
        "outputId": "68afd320-9610-42cd-b86a-a19aedf1a77a"
      },
      "execution_count": null,
      "outputs": [
        {
          "output_type": "stream",
          "name": "stdout",
          "text": [
            "[[234 345 456 567 678 578]\n",
            " [789 890 901 122 132 111]]\n"
          ]
        }
      ]
    },
    {
      "cell_type": "code",
      "source": [
        "b = np.array([[134,245,356,467,568,678],[789,890,901,122,232,311]])\n",
        "print(b)"
      ],
      "metadata": {
        "colab": {
          "base_uri": "https://localhost:8080/"
        },
        "id": "ROoHQvtucoGD",
        "outputId": "ad0e8e18-5037-4301-bb76-9bb3aec836aa"
      },
      "execution_count": null,
      "outputs": [
        {
          "output_type": "stream",
          "name": "stdout",
          "text": [
            "[[134 245 356 467 568 678]\n",
            " [789 890 901 122 232 311]]\n"
          ]
        }
      ]
    },
    {
      "cell_type": "code",
      "source": [
        "np.append(a,b) #forms a single dimension array if you are giving mumti dimension array"
      ],
      "metadata": {
        "colab": {
          "base_uri": "https://localhost:8080/"
        },
        "id": "ZAy5KFkhc5ty",
        "outputId": "4538b2c3-51cb-4175-cbc8-d548c462c791"
      },
      "execution_count": null,
      "outputs": [
        {
          "output_type": "execute_result",
          "data": {
            "text/plain": [
              "array([234, 345, 456, 567, 678, 578, 789, 890, 901, 122, 132, 111, 134,\n",
              "       245, 356, 467, 568, 678, 789, 890, 901, 122, 232, 311])"
            ]
          },
          "metadata": {},
          "execution_count": 13
        }
      ]
    },
    {
      "cell_type": "code",
      "source": [
        "np.append(a,b).reshape(6,4)"
      ],
      "metadata": {
        "colab": {
          "base_uri": "https://localhost:8080/"
        },
        "id": "hNwvedFIdIE3",
        "outputId": "6e14fe57-acfa-469b-a25f-5c5f089c66d9"
      },
      "execution_count": null,
      "outputs": [
        {
          "output_type": "execute_result",
          "data": {
            "text/plain": [
              "array([[234, 345, 456, 567],\n",
              "       [678, 578, 789, 890],\n",
              "       [901, 122, 132, 111],\n",
              "       [134, 245, 356, 467],\n",
              "       [568, 678, 789, 890],\n",
              "       [901, 122, 232, 311]])"
            ]
          },
          "metadata": {},
          "execution_count": 14
        }
      ]
    },
    {
      "cell_type": "code",
      "source": [
        "np.append(a,b).reshape(2,12)"
      ],
      "metadata": {
        "colab": {
          "base_uri": "https://localhost:8080/"
        },
        "id": "6iXYCneydT1R",
        "outputId": "72ebc282-d24b-4496-c7be-3938838a4321"
      },
      "execution_count": null,
      "outputs": [
        {
          "output_type": "execute_result",
          "data": {
            "text/plain": [
              "array([[234, 345, 456, 567, 678, 578, 789, 890, 901, 122, 132, 111],\n",
              "       [134, 245, 356, 467, 568, 678, 789, 890, 901, 122, 232, 311]])"
            ]
          },
          "metadata": {},
          "execution_count": 15
        }
      ]
    },
    {
      "cell_type": "code",
      "source": [
        "np.append(a,b).reshape(12,2)"
      ],
      "metadata": {
        "colab": {
          "base_uri": "https://localhost:8080/"
        },
        "id": "sj9a6kWPdrWc",
        "outputId": "5f690962-e1ef-47d8-bb39-6052a4900825"
      },
      "execution_count": null,
      "outputs": [
        {
          "output_type": "execute_result",
          "data": {
            "text/plain": [
              "array([[234, 345],\n",
              "       [456, 567],\n",
              "       [678, 578],\n",
              "       [789, 890],\n",
              "       [901, 122],\n",
              "       [132, 111],\n",
              "       [134, 245],\n",
              "       [356, 467],\n",
              "       [568, 678],\n",
              "       [789, 890],\n",
              "       [901, 122],\n",
              "       [232, 311]])"
            ]
          },
          "metadata": {},
          "execution_count": 16
        }
      ]
    },
    {
      "cell_type": "code",
      "source": [
        "np.append(a,b).reshape(24,1)"
      ],
      "metadata": {
        "colab": {
          "base_uri": "https://localhost:8080/"
        },
        "id": "dPrl39brdvmf",
        "outputId": "6ec9a604-2e4e-46fe-935f-d762d74fc1ce"
      },
      "execution_count": null,
      "outputs": [
        {
          "output_type": "execute_result",
          "data": {
            "text/plain": [
              "array([[234],\n",
              "       [345],\n",
              "       [456],\n",
              "       [567],\n",
              "       [678],\n",
              "       [578],\n",
              "       [789],\n",
              "       [890],\n",
              "       [901],\n",
              "       [122],\n",
              "       [132],\n",
              "       [111],\n",
              "       [134],\n",
              "       [245],\n",
              "       [356],\n",
              "       [467],\n",
              "       [568],\n",
              "       [678],\n",
              "       [789],\n",
              "       [890],\n",
              "       [901],\n",
              "       [122],\n",
              "       [232],\n",
              "       [311]])"
            ]
          },
          "metadata": {},
          "execution_count": 17
        }
      ]
    },
    {
      "cell_type": "code",
      "source": [
        "np.append(a,b).reshape(3,4,2)"
      ],
      "metadata": {
        "colab": {
          "base_uri": "https://localhost:8080/"
        },
        "id": "CqQbYOmCd0W8",
        "outputId": "481b5131-9616-4b33-d965-a1b544a66bfa"
      },
      "execution_count": null,
      "outputs": [
        {
          "output_type": "execute_result",
          "data": {
            "text/plain": [
              "array([[[234, 345],\n",
              "        [456, 567],\n",
              "        [678, 578],\n",
              "        [789, 890]],\n",
              "\n",
              "       [[901, 122],\n",
              "        [132, 111],\n",
              "        [134, 245],\n",
              "        [356, 467]],\n",
              "\n",
              "       [[568, 678],\n",
              "        [789, 890],\n",
              "        [901, 122],\n",
              "        [232, 311]]])"
            ]
          },
          "metadata": {},
          "execution_count": 18
        }
      ]
    },
    {
      "cell_type": "code",
      "source": [
        "np.append(a,b).reshape(4,2,3)"
      ],
      "metadata": {
        "colab": {
          "base_uri": "https://localhost:8080/"
        },
        "id": "q_sIQpBZd42u",
        "outputId": "a68126f4-4677-471b-87e2-b50330fe7d79"
      },
      "execution_count": null,
      "outputs": [
        {
          "output_type": "execute_result",
          "data": {
            "text/plain": [
              "array([[[234, 345, 456],\n",
              "        [567, 678, 578]],\n",
              "\n",
              "       [[789, 890, 901],\n",
              "        [122, 132, 111]],\n",
              "\n",
              "       [[134, 245, 356],\n",
              "        [467, 568, 678]],\n",
              "\n",
              "       [[789, 890, 901],\n",
              "        [122, 232, 311]]])"
            ]
          },
          "metadata": {},
          "execution_count": 19
        }
      ]
    },
    {
      "cell_type": "code",
      "source": [
        "np.append(a,b).reshape(4,3,2)"
      ],
      "metadata": {
        "colab": {
          "base_uri": "https://localhost:8080/"
        },
        "id": "qMxvFfTfd-VP",
        "outputId": "8ab3adf7-63fc-4d30-d4f2-94a434a15689"
      },
      "execution_count": null,
      "outputs": [
        {
          "output_type": "execute_result",
          "data": {
            "text/plain": [
              "array([[[234, 345],\n",
              "        [456, 567],\n",
              "        [678, 578]],\n",
              "\n",
              "       [[789, 890],\n",
              "        [901, 122],\n",
              "        [132, 111]],\n",
              "\n",
              "       [[134, 245],\n",
              "        [356, 467],\n",
              "        [568, 678]],\n",
              "\n",
              "       [[789, 890],\n",
              "        [901, 122],\n",
              "        [232, 311]]])"
            ]
          },
          "metadata": {},
          "execution_count": 20
        }
      ]
    },
    {
      "cell_type": "markdown",
      "source": [
        "# **insert()**\n",
        "\n",
        "\n",
        "1.   insert is also similar to append\n",
        "2.   insert is taken single dimension continuos memory location index array\n",
        "\n"
      ],
      "metadata": {
        "id": "YQ03BRgXeJNW"
      }
    },
    {
      "cell_type": "code",
      "source": [
        "a = np.array([[234,345,456,567,678,789],[543,500,276,564,785,111]])\n",
        "print(a)"
      ],
      "metadata": {
        "id": "nj0L76zteD_w",
        "colab": {
          "base_uri": "https://localhost:8080/"
        },
        "outputId": "4f94e877-7c51-4318-c38c-14bd03dc8f75"
      },
      "execution_count": null,
      "outputs": [
        {
          "output_type": "stream",
          "name": "stdout",
          "text": [
            "[[234 345 456 567 678 789]\n",
            " [543 500 276 564 785 111]]\n"
          ]
        }
      ]
    },
    {
      "cell_type": "code",
      "source": [
        "np.insert(a,7,999) #inserting single element"
      ],
      "metadata": {
        "colab": {
          "base_uri": "https://localhost:8080/"
        },
        "id": "jngfGsQo072p",
        "outputId": "25dfacba-2a5d-46d0-8132-bd9eff0c934b"
      },
      "execution_count": null,
      "outputs": [
        {
          "output_type": "execute_result",
          "data": {
            "text/plain": [
              "array([234, 345, 456, 567, 678, 789, 543, 999, 500, 276, 564, 785, 111])"
            ]
          },
          "metadata": {},
          "execution_count": 3
        }
      ]
    },
    {
      "cell_type": "code",
      "source": [
        "np.insert(a,7,[999,636,777,234]) #inserting multiple elements\n",
        "#result generated in single dimension only\n",
        "#subscript[] is used for inserting multiple elements"
      ],
      "metadata": {
        "id": "smoJsJKT1-bf",
        "colab": {
          "base_uri": "https://localhost:8080/"
        },
        "outputId": "a76ea695-e90a-4670-eeb0-286987291416"
      },
      "execution_count": null,
      "outputs": [
        {
          "output_type": "execute_result",
          "data": {
            "text/plain": [
              "array([234, 345, 456, 567, 678, 789, 543, 999, 636, 777, 234, 500, 276,\n",
              "       564, 785, 111])"
            ]
          },
          "metadata": {},
          "execution_count": 5
        }
      ]
    },
    {
      "cell_type": "code",
      "source": [
        "np.insert(a,7,[999,654,777,124]).reshape(4,4)"
      ],
      "metadata": {
        "colab": {
          "base_uri": "https://localhost:8080/"
        },
        "id": "HQZRsy-agiG4",
        "outputId": "1259bafb-dcf3-4989-8021-f26f31708225"
      },
      "execution_count": null,
      "outputs": [
        {
          "output_type": "execute_result",
          "data": {
            "text/plain": [
              "array([[234, 345, 456, 567],\n",
              "       [678, 789, 543, 999],\n",
              "       [654, 777, 124, 500],\n",
              "       [276, 564, 785, 111]])"
            ]
          },
          "metadata": {},
          "execution_count": 6
        }
      ]
    },
    {
      "cell_type": "code",
      "source": [
        "np.insert(a,7,[999,654,777,124]).reshape(2,4,2)"
      ],
      "metadata": {
        "colab": {
          "base_uri": "https://localhost:8080/"
        },
        "id": "4y2CvlalgsG2",
        "outputId": "9dee6d8d-6013-48bc-ab28-d5d25f60d37a"
      },
      "execution_count": null,
      "outputs": [
        {
          "output_type": "execute_result",
          "data": {
            "text/plain": [
              "array([[[234, 345],\n",
              "        [456, 567],\n",
              "        [678, 789],\n",
              "        [543, 999]],\n",
              "\n",
              "       [[654, 777],\n",
              "        [124, 500],\n",
              "        [276, 564],\n",
              "        [785, 111]]])"
            ]
          },
          "metadata": {},
          "execution_count": 7
        }
      ]
    },
    {
      "cell_type": "code",
      "source": [
        "np.insert(a,7,[999,654,777,124]).reshape(2,2,2,2)"
      ],
      "metadata": {
        "colab": {
          "base_uri": "https://localhost:8080/"
        },
        "id": "vBrmR3LNgySZ",
        "outputId": "6f538897-f64c-40a9-d038-bdcb58545b14"
      },
      "execution_count": null,
      "outputs": [
        {
          "output_type": "execute_result",
          "data": {
            "text/plain": [
              "array([[[[234, 345],\n",
              "         [456, 567]],\n",
              "\n",
              "        [[678, 789],\n",
              "         [543, 999]]],\n",
              "\n",
              "\n",
              "       [[[654, 777],\n",
              "         [124, 500]],\n",
              "\n",
              "        [[276, 564],\n",
              "         [785, 111]]]])"
            ]
          },
          "metadata": {},
          "execution_count": 8
        }
      ]
    },
    {
      "cell_type": "markdown",
      "source": [
        "# **Delete**()"
      ],
      "metadata": {
        "id": "zl15i-0Jg54y"
      }
    },
    {
      "cell_type": "code",
      "source": [
        "a = np.array([234,345,456,567,678,890,132,434,857,865,111,689])\n",
        "print(a)"
      ],
      "metadata": {
        "colab": {
          "base_uri": "https://localhost:8080/"
        },
        "id": "9eTDZMlHg375",
        "outputId": "a398b459-f3bc-4e79-f4c0-08bdd160e7ff"
      },
      "execution_count": null,
      "outputs": [
        {
          "output_type": "stream",
          "name": "stdout",
          "text": [
            "[234 345 456 567 678 890 132 434 857 865 111 689]\n"
          ]
        }
      ]
    },
    {
      "cell_type": "code",
      "source": [
        "np.delete(a,9)"
      ],
      "metadata": {
        "colab": {
          "base_uri": "https://localhost:8080/"
        },
        "id": "sD-W7oInhf7I",
        "outputId": "89df2b54-9acf-477c-dc6d-b4dc0b82e848"
      },
      "execution_count": null,
      "outputs": [
        {
          "output_type": "execute_result",
          "data": {
            "text/plain": [
              "array([234, 345, 456, 567, 678, 890, 132, 434, 857, 111, 689])"
            ]
          },
          "metadata": {},
          "execution_count": 10
        }
      ]
    },
    {
      "cell_type": "code",
      "source": [
        "a = np.array([[234,345,456,567,678,890],[132,434,857,865,111,689]])\n",
        "print(a)\n"
      ],
      "metadata": {
        "colab": {
          "base_uri": "https://localhost:8080/"
        },
        "id": "5UFyJAKJhjcK",
        "outputId": "eff86164-325a-40e7-d8c3-7e082b3bbdd3"
      },
      "execution_count": null,
      "outputs": [
        {
          "output_type": "stream",
          "name": "stdout",
          "text": [
            "[[234 345 456 567 678 890]\n",
            " [132 434 857 865 111 689]]\n"
          ]
        }
      ]
    },
    {
      "cell_type": "code",
      "source": [
        "np.delete(a,6)"
      ],
      "metadata": {
        "colab": {
          "base_uri": "https://localhost:8080/"
        },
        "id": "CR8Syz3ChwDp",
        "outputId": "c91928a4-46d2-49d3-cd55-2ce98a985c08"
      },
      "execution_count": null,
      "outputs": [
        {
          "output_type": "execute_result",
          "data": {
            "text/plain": [
              "array([234, 345, 456, 567, 678, 890, 434, 857, 865, 111, 689])"
            ]
          },
          "metadata": {},
          "execution_count": 12
        }
      ]
    },
    {
      "cell_type": "markdown",
      "source": [
        "# **concatenate**()\n",
        "\n",
        "two different arrays are concatenated"
      ],
      "metadata": {
        "id": "P73x5lVJh5mJ"
      }
    },
    {
      "cell_type": "code",
      "source": [
        "a = np.array([234,345,456,567,678,890,132,434,857,865,111,689])\n",
        "a"
      ],
      "metadata": {
        "colab": {
          "base_uri": "https://localhost:8080/"
        },
        "id": "QxYRFKxqh3GS",
        "outputId": "dbc51dfa-eb6e-46de-97ef-b8f77faa69fb"
      },
      "execution_count": null,
      "outputs": [
        {
          "output_type": "execute_result",
          "data": {
            "text/plain": [
              "array([234, 345, 456, 567, 678, 890, 132, 434, 857, 865, 111, 689])"
            ]
          },
          "metadata": {},
          "execution_count": 22
        }
      ]
    },
    {
      "cell_type": "code",
      "source": [
        "b = np.array([235,145,444,927,446,990,113,111,850,405,420,699])\n",
        "b"
      ],
      "metadata": {
        "colab": {
          "base_uri": "https://localhost:8080/"
        },
        "id": "Q9aqfQWniJ-P",
        "outputId": "875e84d8-6714-48f7-b7c4-4778c8c23850"
      },
      "execution_count": null,
      "outputs": [
        {
          "output_type": "execute_result",
          "data": {
            "text/plain": [
              "array([235, 145, 444, 927, 446, 990, 133, 111, 850, 405, 420, 699])"
            ]
          },
          "metadata": {},
          "execution_count": 21
        }
      ]
    },
    {
      "cell_type": "code",
      "source": [
        "np.concatenate((a,b)) # all elements will be in one dimension only"
      ],
      "metadata": {
        "colab": {
          "base_uri": "https://localhost:8080/"
        },
        "id": "zo4b21cmie0a",
        "outputId": "986c6f93-da33-4cd7-f775-3a2aedfcc2bd"
      },
      "execution_count": null,
      "outputs": [
        {
          "output_type": "execute_result",
          "data": {
            "text/plain": [
              "array([234, 345, 456, 567, 678, 890, 132, 434, 857, 865, 111, 689, 235,\n",
              "       145, 444, 927, 446, 990, 133, 111, 850, 405, 420, 699])"
            ]
          },
          "metadata": {},
          "execution_count": 19
        }
      ]
    },
    {
      "cell_type": "code",
      "source": [
        "np.concatenate((a,b),axis=0) # row wise concatenation"
      ],
      "metadata": {
        "colab": {
          "base_uri": "https://localhost:8080/"
        },
        "id": "SjRumYPgiqem",
        "outputId": "8935304a-d32c-484c-e330-ee1b2fc8f57d"
      },
      "execution_count": null,
      "outputs": [
        {
          "output_type": "execute_result",
          "data": {
            "text/plain": [
              "array([234, 345, 456, 567, 678, 890, 132, 434, 857, 865, 111, 689, 235,\n",
              "       145, 444, 927, 446, 990, 133, 111, 850, 405, 420, 699])"
            ]
          },
          "metadata": {},
          "execution_count": 28
        }
      ]
    },
    {
      "cell_type": "markdown",
      "source": [
        "# **stack**()\n",
        "\n",
        "# **vstack**()\n",
        "\n",
        "# **hstack**()\n",
        "\n",
        "# **dstack**()\n",
        "\n",
        "these are all used for joining arrays"
      ],
      "metadata": {
        "id": "4nrGpF8FkGID"
      }
    },
    {
      "cell_type": "code",
      "source": [
        "a = np.array([234,345,456,567,678,890,132,434,857,865,111,689])\n",
        "print(a)"
      ],
      "metadata": {
        "colab": {
          "base_uri": "https://localhost:8080/"
        },
        "id": "Hw3ZRl9ii4aX",
        "outputId": "4c4cc934-3f1b-4130-e007-7d77d3e94ac6"
      },
      "execution_count": null,
      "outputs": [
        {
          "output_type": "stream",
          "name": "stdout",
          "text": [
            "[234 345 456 567 678 890 132 434 857 865 111 689]\n"
          ]
        }
      ]
    },
    {
      "cell_type": "code",
      "source": [
        "b = np.array([235,145,444,927,446,990,113,111,850,405,420,699])\n",
        "print(b)"
      ],
      "metadata": {
        "colab": {
          "base_uri": "https://localhost:8080/"
        },
        "id": "lXC16pFUkrR1",
        "outputId": "a6f95679-9f96-4bf7-dffe-02c6231c4143"
      },
      "execution_count": null,
      "outputs": [
        {
          "output_type": "stream",
          "name": "stdout",
          "text": [
            "[235 145 444 927 446 990 113 111 850 405 420 699]\n"
          ]
        }
      ]
    },
    {
      "cell_type": "code",
      "source": [
        "np.stack((a,b))\n",
        "# stack seperates two array elements but concatebnation not seperated the array elements"
      ],
      "metadata": {
        "colab": {
          "base_uri": "https://localhost:8080/"
        },
        "id": "ck2ds_R5lK5X",
        "outputId": "709d61ec-de60-4be1-a1c3-5e6e715bdd1f"
      },
      "execution_count": null,
      "outputs": [
        {
          "output_type": "execute_result",
          "data": {
            "text/plain": [
              "array([[234, 345, 456, 567, 678, 890, 132, 434, 857, 865, 111, 689],\n",
              "       [235, 145, 444, 927, 446, 990, 113, 111, 850, 405, 420, 699]])"
            ]
          },
          "metadata": {},
          "execution_count": 31
        }
      ]
    },
    {
      "cell_type": "code",
      "source": [
        "res = np.stack((a,b))\n",
        "res\n"
      ],
      "metadata": {
        "colab": {
          "base_uri": "https://localhost:8080/"
        },
        "id": "C5U1oZ-2lOKJ",
        "outputId": "c06b69ce-bd41-468f-9944-fa396074badb"
      },
      "execution_count": null,
      "outputs": [
        {
          "output_type": "execute_result",
          "data": {
            "text/plain": [
              "array([[234, 345, 456, 567, 678, 890, 132, 434, 857, 865, 111, 689],\n",
              "       [235, 145, 444, 927, 446, 990, 113, 111, 850, 405, 420, 699]])"
            ]
          },
          "metadata": {},
          "execution_count": 33
        }
      ]
    },
    {
      "cell_type": "code",
      "source": [
        "res[0]"
      ],
      "metadata": {
        "colab": {
          "base_uri": "https://localhost:8080/"
        },
        "id": "nD_-NU-DlgAe",
        "outputId": "7febf099-4365-4495-e749-1df0a7caf96a"
      },
      "execution_count": null,
      "outputs": [
        {
          "output_type": "execute_result",
          "data": {
            "text/plain": [
              "array([234, 345, 456, 567, 678, 890, 132, 434, 857, 865, 111, 689])"
            ]
          },
          "metadata": {},
          "execution_count": 34
        }
      ]
    },
    {
      "cell_type": "code",
      "source": [
        "res[1]"
      ],
      "metadata": {
        "colab": {
          "base_uri": "https://localhost:8080/"
        },
        "id": "a98bvcJNlkyr",
        "outputId": "b9854a68-d4a5-4f48-d3be-0cc8eca54314"
      },
      "execution_count": null,
      "outputs": [
        {
          "output_type": "execute_result",
          "data": {
            "text/plain": [
              "array([235, 145, 444, 927, 446, 990, 113, 111, 850, 405, 420, 699])"
            ]
          },
          "metadata": {},
          "execution_count": 37
        }
      ]
    },
    {
      "cell_type": "code",
      "source": [
        "res1 = np.concatenate((a,b))"
      ],
      "metadata": {
        "id": "DW9SDjpdlnLh"
      },
      "execution_count": null,
      "outputs": []
    },
    {
      "cell_type": "code",
      "source": [
        "res1"
      ],
      "metadata": {
        "colab": {
          "base_uri": "https://localhost:8080/"
        },
        "id": "2RiJfL8Dl0rK",
        "outputId": "42d85d9e-937d-4358-bdfb-c497a65921d4"
      },
      "execution_count": null,
      "outputs": [
        {
          "output_type": "execute_result",
          "data": {
            "text/plain": [
              "array([234, 345, 456, 567, 678, 890, 132, 434, 857, 865, 111, 689, 235,\n",
              "       145, 444, 927, 446, 990, 113, 111, 850, 405, 420, 699])"
            ]
          },
          "metadata": {},
          "execution_count": 39
        }
      ]
    },
    {
      "cell_type": "code",
      "source": [
        "res1[9]"
      ],
      "metadata": {
        "colab": {
          "base_uri": "https://localhost:8080/"
        },
        "id": "On5foG_fl3Ah",
        "outputId": "275af84f-d072-4ee5-9759-9e64f1a3e7b4"
      },
      "execution_count": null,
      "outputs": [
        {
          "output_type": "execute_result",
          "data": {
            "text/plain": [
              "865"
            ]
          },
          "metadata": {},
          "execution_count": 40
        }
      ]
    },
    {
      "cell_type": "code",
      "source": [
        "np.stack((a,b),axis = 1) # first row of a and first row of b form an array\n"
      ],
      "metadata": {
        "colab": {
          "base_uri": "https://localhost:8080/"
        },
        "id": "x5oZoShdl7ri",
        "outputId": "ec80090b-e247-4a26-fa60-b3f2c8216536"
      },
      "execution_count": null,
      "outputs": [
        {
          "output_type": "execute_result",
          "data": {
            "text/plain": [
              "array([[234, 235],\n",
              "       [345, 145],\n",
              "       [456, 444],\n",
              "       [567, 927],\n",
              "       [678, 446],\n",
              "       [890, 990],\n",
              "       [132, 113],\n",
              "       [434, 111],\n",
              "       [857, 850],\n",
              "       [865, 405],\n",
              "       [111, 420],\n",
              "       [689, 699]])"
            ]
          },
          "metadata": {},
          "execution_count": 42
        }
      ]
    },
    {
      "cell_type": "code",
      "source": [
        "np.stack((a,b),axis = 0)\n"
      ],
      "metadata": {
        "colab": {
          "base_uri": "https://localhost:8080/"
        },
        "id": "H_v_ecc8mDGB",
        "outputId": "1e96ace3-618a-4b1d-8c46-c8c327a5e48b"
      },
      "execution_count": null,
      "outputs": [
        {
          "output_type": "execute_result",
          "data": {
            "text/plain": [
              "array([[234, 345, 456, 567, 678, 890, 132, 434, 857, 865, 111, 689],\n",
              "       [235, 145, 444, 927, 446, 990, 113, 111, 850, 405, 420, 699]])"
            ]
          },
          "metadata": {},
          "execution_count": 43
        }
      ]
    },
    {
      "cell_type": "markdown",
      "source": [
        "# **vstack**()\n",
        "\n",
        "Vertical stack"
      ],
      "metadata": {
        "id": "bo1RuW41npHy"
      }
    },
    {
      "cell_type": "code",
      "source": [
        "a = np.array([[10,20],[30,40]])\n",
        "a"
      ],
      "metadata": {
        "colab": {
          "base_uri": "https://localhost:8080/"
        },
        "id": "BTDWneHFnmMf",
        "outputId": "bdbf07f2-d880-4ce3-d31f-a0e3d526f24e"
      },
      "execution_count": null,
      "outputs": [
        {
          "output_type": "execute_result",
          "data": {
            "text/plain": [
              "array([[10, 20],\n",
              "       [30, 40]])"
            ]
          },
          "metadata": {},
          "execution_count": 44
        }
      ]
    },
    {
      "cell_type": "code",
      "source": [
        "b = np.array([[50,60],[70,80]])\n",
        "b"
      ],
      "metadata": {
        "colab": {
          "base_uri": "https://localhost:8080/"
        },
        "id": "c3SsfDSjn4sT",
        "outputId": "a748e561-d825-4f7d-f235-905f42bd0c6d"
      },
      "execution_count": null,
      "outputs": [
        {
          "output_type": "execute_result",
          "data": {
            "text/plain": [
              "array([[50, 60],\n",
              "       [70, 80]])"
            ]
          },
          "metadata": {},
          "execution_count": 45
        }
      ]
    },
    {
      "cell_type": "code",
      "source": [
        "np.vstack((a,b))"
      ],
      "metadata": {
        "colab": {
          "base_uri": "https://localhost:8080/"
        },
        "id": "_BAGi6b7n_kM",
        "outputId": "e12c7dce-ecac-4a2b-d1e9-370c0ed5c1f6"
      },
      "execution_count": null,
      "outputs": [
        {
          "output_type": "execute_result",
          "data": {
            "text/plain": [
              "array([[10, 20],\n",
              "       [30, 40],\n",
              "       [50, 60],\n",
              "       [70, 80]])"
            ]
          },
          "metadata": {},
          "execution_count": 46
        }
      ]
    },
    {
      "cell_type": "markdown",
      "source": [
        "# **hstack**()\n",
        "\n",
        "horizontal stack"
      ],
      "metadata": {
        "id": "ISipYPhtoFsa"
      }
    },
    {
      "cell_type": "code",
      "source": [
        "np.hstack((a,b)) #concatenation w.r.t. axis = 1"
      ],
      "metadata": {
        "colab": {
          "base_uri": "https://localhost:8080/"
        },
        "id": "ykIVv6b9oDsj",
        "outputId": "6a8772dd-6aac-4828-ef19-7a1845760d6c"
      },
      "execution_count": null,
      "outputs": [
        {
          "output_type": "execute_result",
          "data": {
            "text/plain": [
              "array([[10, 20, 50, 60],\n",
              "       [30, 40, 70, 80]])"
            ]
          },
          "metadata": {},
          "execution_count": 48
        }
      ]
    },
    {
      "cell_type": "code",
      "source": [
        "np.concatenate((a,b))"
      ],
      "metadata": {
        "colab": {
          "base_uri": "https://localhost:8080/"
        },
        "id": "8lx9xiSsoPoy",
        "outputId": "e14e18fd-96a0-4bda-b1b3-ace4adac8221"
      },
      "execution_count": null,
      "outputs": [
        {
          "output_type": "execute_result",
          "data": {
            "text/plain": [
              "array([[10, 20],\n",
              "       [30, 40],\n",
              "       [50, 60],\n",
              "       [70, 80]])"
            ]
          },
          "metadata": {},
          "execution_count": 49
        }
      ]
    },
    {
      "cell_type": "code",
      "source": [
        "np.concatenate((a,b),axis = 1)"
      ],
      "metadata": {
        "colab": {
          "base_uri": "https://localhost:8080/"
        },
        "id": "DEwigJ_8ocxc",
        "outputId": "5bcf8028-2b1a-4608-b7c7-dccaefb43217"
      },
      "execution_count": null,
      "outputs": [
        {
          "output_type": "execute_result",
          "data": {
            "text/plain": [
              "array([[10, 20, 50, 60],\n",
              "       [30, 40, 70, 80]])"
            ]
          },
          "metadata": {},
          "execution_count": 50
        }
      ]
    },
    {
      "cell_type": "markdown",
      "source": [
        "# **Depth wise**\n",
        "\n",
        "# **dstack**()"
      ],
      "metadata": {
        "id": "Hj3QmhhFoo-O"
      }
    },
    {
      "cell_type": "code",
      "source": [
        "a = np.array([[10,20],[30,40]])\n",
        "a"
      ],
      "metadata": {
        "colab": {
          "base_uri": "https://localhost:8080/"
        },
        "id": "zv-C1xYnolcV",
        "outputId": "a64f931f-225d-4bf8-8815-03c97bb8a005"
      },
      "execution_count": null,
      "outputs": [
        {
          "output_type": "execute_result",
          "data": {
            "text/plain": [
              "array([[10, 20],\n",
              "       [30, 40]])"
            ]
          },
          "metadata": {},
          "execution_count": 51
        }
      ]
    },
    {
      "cell_type": "code",
      "source": [
        "b = np.array([[50,60],[70,80]])\n",
        "b"
      ],
      "metadata": {
        "colab": {
          "base_uri": "https://localhost:8080/"
        },
        "id": "H2UuhCclo3Vi",
        "outputId": "1c332050-cc02-4569-ff1f-d910d295ba94"
      },
      "execution_count": null,
      "outputs": [
        {
          "output_type": "execute_result",
          "data": {
            "text/plain": [
              "array([[50, 60],\n",
              "       [70, 80]])"
            ]
          },
          "metadata": {},
          "execution_count": 52
        }
      ]
    },
    {
      "cell_type": "code",
      "source": [
        "np.dstack((a,b))"
      ],
      "metadata": {
        "colab": {
          "base_uri": "https://localhost:8080/"
        },
        "id": "e1j6eKpqo6hP",
        "outputId": "8e3343a6-1d87-4fa9-f81e-d82474ad8db8"
      },
      "execution_count": null,
      "outputs": [
        {
          "output_type": "execute_result",
          "data": {
            "text/plain": [
              "array([[[10, 50],\n",
              "        [20, 60]],\n",
              "\n",
              "       [[30, 70],\n",
              "        [40, 80]]])"
            ]
          },
          "metadata": {},
          "execution_count": 53
        }
      ]
    },
    {
      "cell_type": "markdown",
      "source": [
        "# **split()**"
      ],
      "metadata": {
        "id": "ctbs_eNmpBVD"
      }
    },
    {
      "cell_type": "code",
      "source": [
        "x = np.arange(5,60,2)\n",
        "print(x)"
      ],
      "metadata": {
        "colab": {
          "base_uri": "https://localhost:8080/"
        },
        "id": "XdVLzvvEo-rA",
        "outputId": "f40b0c47-74fb-4d1a-fef5-23ec4b23157a"
      },
      "execution_count": null,
      "outputs": [
        {
          "output_type": "stream",
          "name": "stdout",
          "text": [
            "[ 5  7  9 11 13 15 17 19 21 23 25 27 29 31 33 35 37 39 41 43 45 47 49 51\n",
            " 53 55 57 59]\n"
          ]
        }
      ]
    },
    {
      "cell_type": "code",
      "source": [
        "np.split(x,7) #equal divisions"
      ],
      "metadata": {
        "colab": {
          "base_uri": "https://localhost:8080/"
        },
        "id": "HDmr_CqXpQnZ",
        "outputId": "9e8e3ddd-17d0-49a2-a041-0c6144d292bf"
      },
      "execution_count": null,
      "outputs": [
        {
          "output_type": "execute_result",
          "data": {
            "text/plain": [
              "[array([ 5,  7,  9, 11]),\n",
              " array([13, 15, 17, 19]),\n",
              " array([21, 23, 25, 27]),\n",
              " array([29, 31, 33, 35]),\n",
              " array([37, 39, 41, 43]),\n",
              " array([45, 47, 49, 51]),\n",
              " array([53, 55, 57, 59])]"
            ]
          },
          "metadata": {},
          "execution_count": 56
        }
      ]
    },
    {
      "cell_type": "code",
      "source": [
        "np.split(x,2)"
      ],
      "metadata": {
        "colab": {
          "base_uri": "https://localhost:8080/"
        },
        "id": "RtUbXsi4pVd-",
        "outputId": "a50605a1-fd3e-4939-cf40-be4b49ba7d2b"
      },
      "execution_count": null,
      "outputs": [
        {
          "output_type": "execute_result",
          "data": {
            "text/plain": [
              "[array([ 5,  7,  9, 11, 13, 15, 17, 19, 21, 23, 25, 27, 29, 31]),\n",
              " array([33, 35, 37, 39, 41, 43, 45, 47, 49, 51, 53, 55, 57, 59])]"
            ]
          },
          "metadata": {},
          "execution_count": 57
        }
      ]
    },
    {
      "cell_type": "code",
      "source": [
        "np.split(x,14)"
      ],
      "metadata": {
        "colab": {
          "base_uri": "https://localhost:8080/"
        },
        "id": "3zwwD5DYpZZU",
        "outputId": "98029b81-9292-4966-9a19-392e981875a8"
      },
      "execution_count": null,
      "outputs": [
        {
          "output_type": "execute_result",
          "data": {
            "text/plain": [
              "[array([5, 7]),\n",
              " array([ 9, 11]),\n",
              " array([13, 15]),\n",
              " array([17, 19]),\n",
              " array([21, 23]),\n",
              " array([25, 27]),\n",
              " array([29, 31]),\n",
              " array([33, 35]),\n",
              " array([37, 39]),\n",
              " array([41, 43]),\n",
              " array([45, 47]),\n",
              " array([49, 51]),\n",
              " array([53, 55]),\n",
              " array([57, 59])]"
            ]
          },
          "metadata": {},
          "execution_count": 58
        }
      ]
    },
    {
      "cell_type": "code",
      "source": [
        "np.split(x,7)"
      ],
      "metadata": {
        "colab": {
          "base_uri": "https://localhost:8080/"
        },
        "id": "bxPmZjsupe-q",
        "outputId": "d3fb645b-2368-471a-b674-e64c154629c0"
      },
      "execution_count": null,
      "outputs": [
        {
          "output_type": "execute_result",
          "data": {
            "text/plain": [
              "[array([ 5,  7,  9, 11]),\n",
              " array([13, 15, 17, 19]),\n",
              " array([21, 23, 25, 27]),\n",
              " array([29, 31, 33, 35]),\n",
              " array([37, 39, 41, 43]),\n",
              " array([45, 47, 49, 51]),\n",
              " array([53, 55, 57, 59])]"
            ]
          },
          "metadata": {},
          "execution_count": 59
        }
      ]
    },
    {
      "cell_type": "code",
      "source": [
        "z = np.split(x,7)\n",
        "print(z)"
      ],
      "metadata": {
        "colab": {
          "base_uri": "https://localhost:8080/"
        },
        "id": "X_x2j543plBT",
        "outputId": "8bf84847-f710-4544-b7ee-dea5dba7bbef"
      },
      "execution_count": null,
      "outputs": [
        {
          "output_type": "stream",
          "name": "stdout",
          "text": [
            "[array([ 5,  7,  9, 11]), array([13, 15, 17, 19]), array([21, 23, 25, 27]), array([29, 31, 33, 35]), array([37, 39, 41, 43]), array([45, 47, 49, 51]), array([53, 55, 57, 59])]\n"
          ]
        }
      ]
    },
    {
      "cell_type": "code",
      "source": [
        "s1,s2,s3,s4,s5,s6,s7 = np.split(x,7)  #equal divisions"
      ],
      "metadata": {
        "id": "8Iy4ZuTeprfl"
      },
      "execution_count": null,
      "outputs": []
    },
    {
      "cell_type": "code",
      "source": [
        "s1"
      ],
      "metadata": {
        "colab": {
          "base_uri": "https://localhost:8080/"
        },
        "id": "MOkli9mDp2TM",
        "outputId": "1ac0fdb6-410d-495b-8185-0584cd963119"
      },
      "execution_count": null,
      "outputs": [
        {
          "output_type": "execute_result",
          "data": {
            "text/plain": [
              "array([ 5,  7,  9, 11])"
            ]
          },
          "metadata": {},
          "execution_count": 62
        }
      ]
    },
    {
      "cell_type": "code",
      "source": [
        "s2"
      ],
      "metadata": {
        "colab": {
          "base_uri": "https://localhost:8080/"
        },
        "id": "RS6aCme9p3iN",
        "outputId": "70b9b782-6109-4c10-bd12-94afdc3a9486"
      },
      "execution_count": null,
      "outputs": [
        {
          "output_type": "execute_result",
          "data": {
            "text/plain": [
              "array([13, 15, 17, 19])"
            ]
          },
          "metadata": {},
          "execution_count": 63
        }
      ]
    },
    {
      "cell_type": "code",
      "source": [
        "s3"
      ],
      "metadata": {
        "colab": {
          "base_uri": "https://localhost:8080/"
        },
        "id": "SVAjMWCnp4mV",
        "outputId": "60f96d02-0b1a-4c1d-926c-63f41be4487a"
      },
      "execution_count": null,
      "outputs": [
        {
          "output_type": "execute_result",
          "data": {
            "text/plain": [
              "array([21, 23, 25, 27])"
            ]
          },
          "metadata": {},
          "execution_count": 64
        }
      ]
    },
    {
      "cell_type": "code",
      "source": [
        "s4"
      ],
      "metadata": {
        "colab": {
          "base_uri": "https://localhost:8080/"
        },
        "id": "6vphtDELp5dG",
        "outputId": "f3156588-7c6f-4dcf-e2f3-a2a7582fd4ae"
      },
      "execution_count": null,
      "outputs": [
        {
          "output_type": "execute_result",
          "data": {
            "text/plain": [
              "array([29, 31, 33, 35])"
            ]
          },
          "metadata": {},
          "execution_count": 65
        }
      ]
    },
    {
      "cell_type": "code",
      "source": [
        "s5"
      ],
      "metadata": {
        "colab": {
          "base_uri": "https://localhost:8080/"
        },
        "id": "WxIwEKORp56z",
        "outputId": "4a2b47fa-9589-480c-aa84-012223c2a756"
      },
      "execution_count": null,
      "outputs": [
        {
          "output_type": "execute_result",
          "data": {
            "text/plain": [
              "array([37, 39, 41, 43])"
            ]
          },
          "metadata": {},
          "execution_count": 66
        }
      ]
    },
    {
      "cell_type": "code",
      "source": [
        "s6"
      ],
      "metadata": {
        "colab": {
          "base_uri": "https://localhost:8080/"
        },
        "id": "ykCxT8wTp6RV",
        "outputId": "cabef8e3-3382-41fd-c2e3-ff49f17d6736"
      },
      "execution_count": null,
      "outputs": [
        {
          "output_type": "execute_result",
          "data": {
            "text/plain": [
              "array([45, 47, 49, 51])"
            ]
          },
          "metadata": {},
          "execution_count": 67
        }
      ]
    },
    {
      "cell_type": "code",
      "source": [
        "s7"
      ],
      "metadata": {
        "colab": {
          "base_uri": "https://localhost:8080/"
        },
        "id": "CxLc6rlhp6lM",
        "outputId": "bf90d7e4-a396-49dd-a32f-f41d58ea37f6"
      },
      "execution_count": null,
      "outputs": [
        {
          "output_type": "execute_result",
          "data": {
            "text/plain": [
              "array([53, 55, 57, 59])"
            ]
          },
          "metadata": {},
          "execution_count": 68
        }
      ]
    },
    {
      "cell_type": "markdown",
      "source": [
        "# **where**()\n",
        "\n",
        "it checks wether theelements are present in the array or not"
      ],
      "metadata": {
        "id": "B-GFkZ16qFU-"
      }
    },
    {
      "cell_type": "code",
      "source": [
        "a"
      ],
      "metadata": {
        "colab": {
          "base_uri": "https://localhost:8080/"
        },
        "id": "dz_aD2eDqLCy",
        "outputId": "82abe67b-5cad-49d4-94f5-25abd04decda"
      },
      "execution_count": null,
      "outputs": [
        {
          "output_type": "execute_result",
          "data": {
            "text/plain": [
              "array([[10, 20],\n",
              "       [30, 40]])"
            ]
          },
          "metadata": {},
          "execution_count": 69
        }
      ]
    },
    {
      "cell_type": "code",
      "source": [
        "a = np.arange(5,65,5).reshape(4,3)\n",
        "a"
      ],
      "metadata": {
        "colab": {
          "base_uri": "https://localhost:8080/"
        },
        "id": "6kwO4RtMqXd1",
        "outputId": "bcdeb098-7b6e-4f4a-9a15-0be1768ecbe3"
      },
      "execution_count": null,
      "outputs": [
        {
          "output_type": "execute_result",
          "data": {
            "text/plain": [
              "array([[ 5, 10, 15],\n",
              "       [20, 25, 30],\n",
              "       [35, 40, 45],\n",
              "       [50, 55, 60]])"
            ]
          },
          "metadata": {},
          "execution_count": 71
        }
      ]
    },
    {
      "cell_type": "code",
      "source": [
        "np.where(a==55)"
      ],
      "metadata": {
        "colab": {
          "base_uri": "https://localhost:8080/"
        },
        "id": "tQhQTzAmqfxU",
        "outputId": "d177ac45-04ff-43ec-87d0-30dfaa22ef04"
      },
      "execution_count": null,
      "outputs": [
        {
          "output_type": "execute_result",
          "data": {
            "text/plain": [
              "(array([3]), array([1]))"
            ]
          },
          "metadata": {},
          "execution_count": 72
        }
      ]
    },
    {
      "cell_type": "code",
      "source": [
        "a = np.arange(5,65,5).reshape(6,2)\n",
        "a"
      ],
      "metadata": {
        "colab": {
          "base_uri": "https://localhost:8080/"
        },
        "id": "CBEsynOQqn0g",
        "outputId": "c9aef09e-1470-43df-9c79-b26bc3bca31b"
      },
      "execution_count": null,
      "outputs": [
        {
          "output_type": "execute_result",
          "data": {
            "text/plain": [
              "array([[ 5, 10],\n",
              "       [15, 20],\n",
              "       [25, 30],\n",
              "       [35, 40],\n",
              "       [45, 50],\n",
              "       [55, 60]])"
            ]
          },
          "metadata": {},
          "execution_count": 73
        }
      ]
    },
    {
      "cell_type": "code",
      "source": [
        "np.where(a==40)"
      ],
      "metadata": {
        "colab": {
          "base_uri": "https://localhost:8080/"
        },
        "id": "CauL98PDqtUi",
        "outputId": "794dc657-9343-46b6-9089-89abc31d4349"
      },
      "execution_count": null,
      "outputs": [
        {
          "output_type": "execute_result",
          "data": {
            "text/plain": [
              "(array([3]), array([1]))"
            ]
          },
          "metadata": {},
          "execution_count": 74
        }
      ]
    },
    {
      "cell_type": "code",
      "source": [
        "b = np.arange(10,100,6)\n",
        "b"
      ],
      "metadata": {
        "colab": {
          "base_uri": "https://localhost:8080/"
        },
        "id": "Z3f0HvqsuDo3",
        "outputId": "59617e72-bcf0-4c29-f182-69284e6fa6e0"
      },
      "execution_count": null,
      "outputs": [
        {
          "output_type": "execute_result",
          "data": {
            "text/plain": [
              "array([10, 16, 22, 28, 34, 40, 46, 52, 58, 64, 70, 76, 82, 88, 94])"
            ]
          },
          "metadata": {},
          "execution_count": 76
        }
      ]
    },
    {
      "cell_type": "code",
      "source": [
        "np.where(b==52)"
      ],
      "metadata": {
        "colab": {
          "base_uri": "https://localhost:8080/"
        },
        "id": "oiF4ztZjuObu",
        "outputId": "52243b11-9cfc-485d-a089-7230fb049732"
      },
      "execution_count": null,
      "outputs": [
        {
          "output_type": "execute_result",
          "data": {
            "text/plain": [
              "(array([7]),)"
            ]
          },
          "metadata": {},
          "execution_count": 77
        }
      ]
    },
    {
      "cell_type": "code",
      "source": [
        "a"
      ],
      "metadata": {
        "colab": {
          "base_uri": "https://localhost:8080/"
        },
        "id": "0hCRUlwzuaDJ",
        "outputId": "59274d2b-72dd-460d-e69c-559c5dc77d1e"
      },
      "execution_count": null,
      "outputs": [
        {
          "output_type": "execute_result",
          "data": {
            "text/plain": [
              "array([10, 16, 22, 28, 34, 40, 46, 52, 58, 64, 70, 76, 82, 88, 94])"
            ]
          },
          "metadata": {},
          "execution_count": 78
        }
      ]
    },
    {
      "cell_type": "code",
      "source": [
        "np.where(a%20==0)"
      ],
      "metadata": {
        "colab": {
          "base_uri": "https://localhost:8080/"
        },
        "id": "xGyFoKQHuYfo",
        "outputId": "bf0f84a6-d1e6-4c9f-d0be-4308ec66a6d7"
      },
      "execution_count": null,
      "outputs": [
        {
          "output_type": "execute_result",
          "data": {
            "text/plain": [
              "(array([5]),)"
            ]
          },
          "metadata": {},
          "execution_count": 79
        }
      ]
    },
    {
      "cell_type": "markdown",
      "source": [
        "# **searchsorted**()"
      ],
      "metadata": {
        "id": "Th6kUEe8ulEp"
      }
    },
    {
      "cell_type": "code",
      "source": [
        "a = np.array([234,345,456,567,678,890,132,434])\n",
        "a\n"
      ],
      "metadata": {
        "colab": {
          "base_uri": "https://localhost:8080/"
        },
        "id": "FrRamnILurtd",
        "outputId": "4895257f-eefa-4d20-f319-e85455db0365"
      },
      "execution_count": null,
      "outputs": [
        {
          "output_type": "execute_result",
          "data": {
            "text/plain": [
              "array([234, 345, 456, 567, 678, 890, 132, 434])"
            ]
          },
          "metadata": {},
          "execution_count": 80
        }
      ]
    },
    {
      "cell_type": "code",
      "source": [
        "np.searchsorted(a,567)"
      ],
      "metadata": {
        "colab": {
          "base_uri": "https://localhost:8080/"
        },
        "id": "zDAEmXRWu1zP",
        "outputId": "ed6ebf98-f597-4fab-cbf5-c3072d7415c8"
      },
      "execution_count": null,
      "outputs": [
        {
          "output_type": "execute_result",
          "data": {
            "text/plain": [
              "3"
            ]
          },
          "metadata": {},
          "execution_count": 81
        }
      ]
    },
    {
      "cell_type": "code",
      "source": [],
      "metadata": {
        "id": "OKVg8AXVu90J"
      },
      "execution_count": null,
      "outputs": []
    },
    {
      "cell_type": "markdown",
      "source": [
        "#**Arithmetic Operations**\n",
        "\n",
        "\n",
        "*   add()\n",
        "*   subtract()\n",
        "*   multily()\n",
        "*   divide()\n",
        "*   exp()\n",
        "*   sqrt()\n",
        "*   comparision()\n",
        "\n"
      ],
      "metadata": {
        "id": "WCsnFXwP1nin"
      }
    },
    {
      "cell_type": "markdown",
      "source": [
        "# **Addition**\n",
        "\n",
        "add()"
      ],
      "metadata": {
        "id": "iqhthKje2NOD"
      }
    },
    {
      "cell_type": "code",
      "source": [
        "a = np.array([[22,25,45],[65,78,56]])\n",
        "print(a)"
      ],
      "metadata": {
        "colab": {
          "base_uri": "https://localhost:8080/"
        },
        "id": "XBwgpeq72VuK",
        "outputId": "bc5ffadd-820f-4999-e896-0a3a461bdbc9"
      },
      "execution_count": null,
      "outputs": [
        {
          "output_type": "stream",
          "name": "stdout",
          "text": [
            "[[22 25 45]\n",
            " [65 78 56]]\n"
          ]
        }
      ]
    },
    {
      "cell_type": "code",
      "source": [
        "b = np.array([[72,66,95],[42,78,69]])\n",
        "print(b)"
      ],
      "metadata": {
        "colab": {
          "base_uri": "https://localhost:8080/"
        },
        "id": "cUDYNJOi2ea2",
        "outputId": "6b8da291-a163-48d8-ce47-4f50d1d8c6d3"
      },
      "execution_count": null,
      "outputs": [
        {
          "output_type": "stream",
          "name": "stdout",
          "text": [
            "[[72 66 95]\n",
            " [42 78 69]]\n"
          ]
        }
      ]
    },
    {
      "cell_type": "code",
      "source": [
        "np.add(a,b)"
      ],
      "metadata": {
        "colab": {
          "base_uri": "https://localhost:8080/"
        },
        "id": "Ww3wMqO52qZD",
        "outputId": "05423ebe-b0fe-438d-994f-926b93f220cf"
      },
      "execution_count": null,
      "outputs": [
        {
          "output_type": "execute_result",
          "data": {
            "text/plain": [
              "array([[ 94,  91, 140],\n",
              "       [107, 156, 125]])"
            ]
          },
          "metadata": {},
          "execution_count": 4
        }
      ]
    },
    {
      "cell_type": "markdown",
      "source": [
        "# **subtract**\n",
        "\n",
        "subtract()"
      ],
      "metadata": {
        "id": "62uY4VvQ2vsi"
      }
    },
    {
      "cell_type": "code",
      "source": [
        "np.subtract(a,b)"
      ],
      "metadata": {
        "colab": {
          "base_uri": "https://localhost:8080/"
        },
        "id": "6KCvfcQ-2tPy",
        "outputId": "40f1b9e4-79d8-4408-f86a-2f02e5e4873c"
      },
      "execution_count": null,
      "outputs": [
        {
          "output_type": "execute_result",
          "data": {
            "text/plain": [
              "array([[-50, -41, -50],\n",
              "       [ 23,   0, -13]])"
            ]
          },
          "metadata": {},
          "execution_count": 5
        }
      ]
    },
    {
      "cell_type": "markdown",
      "source": [
        "# **Multiply**\n",
        "\n",
        "multiply()\n"
      ],
      "metadata": {
        "id": "ROdKYNQA25-W"
      }
    },
    {
      "cell_type": "code",
      "source": [
        "np.multiply(a,b)"
      ],
      "metadata": {
        "colab": {
          "base_uri": "https://localhost:8080/"
        },
        "id": "e2xlrjAg24RS",
        "outputId": "66ebe0e2-af46-4396-b932-562ca6e2de26"
      },
      "execution_count": null,
      "outputs": [
        {
          "output_type": "execute_result",
          "data": {
            "text/plain": [
              "array([[1584, 1650, 4275],\n",
              "       [2730, 6084, 3864]])"
            ]
          },
          "metadata": {},
          "execution_count": 6
        }
      ]
    },
    {
      "cell_type": "markdown",
      "source": [
        "# **Divide**\n",
        "\n",
        "divide()"
      ],
      "metadata": {
        "id": "IEdcycct3LNd"
      }
    },
    {
      "cell_type": "code",
      "source": [
        "np.divide(a,b)"
      ],
      "metadata": {
        "colab": {
          "base_uri": "https://localhost:8080/"
        },
        "id": "1Ry0XKIK3ISC",
        "outputId": "af0612fe-fbb8-425e-f172-f55699d92fdd"
      },
      "execution_count": null,
      "outputs": [
        {
          "output_type": "execute_result",
          "data": {
            "text/plain": [
              "array([[0.30555556, 0.37878788, 0.47368421],\n",
              "       [1.54761905, 1.        , 0.8115942 ]])"
            ]
          },
          "metadata": {},
          "execution_count": 7
        }
      ]
    },
    {
      "cell_type": "markdown",
      "source": [
        "# **Exponential**\n",
        "\n",
        "exp()"
      ],
      "metadata": {
        "id": "PvbDFnU-3Xed"
      }
    },
    {
      "cell_type": "code",
      "source": [
        "np.exp(a)"
      ],
      "metadata": {
        "colab": {
          "base_uri": "https://localhost:8080/"
        },
        "id": "6Qn-bmCm3S_R",
        "outputId": "8e8e301a-89a3-4275-e048-75e2488487a1"
      },
      "execution_count": null,
      "outputs": [
        {
          "output_type": "execute_result",
          "data": {
            "text/plain": [
              "array([[3.58491285e+09, 7.20048993e+10, 3.49342711e+19],\n",
              "       [1.69488924e+28, 7.49841700e+33, 2.09165950e+24]])"
            ]
          },
          "metadata": {},
          "execution_count": 8
        }
      ]
    },
    {
      "cell_type": "code",
      "source": [
        "np.exp(b)"
      ],
      "metadata": {
        "colab": {
          "base_uri": "https://localhost:8080/"
        },
        "id": "z4jEg_YR3hvh",
        "outputId": "df0c219c-18ce-46a3-8dd5-0559e2b15328"
      },
      "execution_count": null,
      "outputs": [
        {
          "output_type": "execute_result",
          "data": {
            "text/plain": [
              "array([[1.85867175e+31, 4.60718663e+28, 1.81123908e+41],\n",
              "       [1.73927494e+18, 7.49841700e+33, 9.25378173e+29]])"
            ]
          },
          "metadata": {},
          "execution_count": 9
        }
      ]
    },
    {
      "cell_type": "markdown",
      "source": [
        "#**SquareRoot**\n",
        "\n",
        "sqrt()"
      ],
      "metadata": {
        "id": "ldN7Cho73lHm"
      }
    },
    {
      "cell_type": "code",
      "source": [
        "np.sqrt(a)"
      ],
      "metadata": {
        "colab": {
          "base_uri": "https://localhost:8080/"
        },
        "id": "Z5ZVNyex3jpg",
        "outputId": "e912ef9a-ecc5-4478-ef0f-219074524e36"
      },
      "execution_count": null,
      "outputs": [
        {
          "output_type": "execute_result",
          "data": {
            "text/plain": [
              "array([[4.69041576, 5.        , 6.70820393],\n",
              "       [8.06225775, 8.83176087, 7.48331477]])"
            ]
          },
          "metadata": {},
          "execution_count": 10
        }
      ]
    },
    {
      "cell_type": "code",
      "source": [
        "np.sqrt(b)"
      ],
      "metadata": {
        "colab": {
          "base_uri": "https://localhost:8080/"
        },
        "id": "G77F2rHk32yx",
        "outputId": "9f083d62-8b19-4d1f-a2d4-03628104a142"
      },
      "execution_count": null,
      "outputs": [
        {
          "output_type": "execute_result",
          "data": {
            "text/plain": [
              "array([[8.48528137, 8.1240384 , 9.74679434],\n",
              "       [6.4807407 , 8.83176087, 8.30662386]])"
            ]
          },
          "metadata": {},
          "execution_count": 11
        }
      ]
    },
    {
      "cell_type": "markdown",
      "source": [
        "# **Comparision**"
      ],
      "metadata": {
        "id": "3i8L0-4O388n"
      }
    },
    {
      "cell_type": "code",
      "source": [
        "# \"==\" is applied in comparision\n",
        "a"
      ],
      "metadata": {
        "colab": {
          "base_uri": "https://localhost:8080/"
        },
        "id": "Ub9peF7y35Dh",
        "outputId": "96a00940-91f7-4e62-e046-37a6260d0fd5"
      },
      "execution_count": null,
      "outputs": [
        {
          "output_type": "execute_result",
          "data": {
            "text/plain": [
              "array([[22, 25, 45],\n",
              "       [65, 78, 56]])"
            ]
          },
          "metadata": {},
          "execution_count": 12
        }
      ]
    },
    {
      "cell_type": "code",
      "source": [
        "b"
      ],
      "metadata": {
        "colab": {
          "base_uri": "https://localhost:8080/"
        },
        "id": "yAJq3iwH4Gl_",
        "outputId": "a221249a-44b9-486d-ee27-971a3089a489"
      },
      "execution_count": null,
      "outputs": [
        {
          "output_type": "execute_result",
          "data": {
            "text/plain": [
              "array([[72, 66, 95],\n",
              "       [42, 78, 69]])"
            ]
          },
          "metadata": {},
          "execution_count": 13
        }
      ]
    },
    {
      "cell_type": "code",
      "source": [
        "b[1][0] = 65\n",
        "b[1][1] = 74\n",
        "b[1][2] = 87"
      ],
      "metadata": {
        "id": "oEub0Hfu4Hg_"
      },
      "execution_count": null,
      "outputs": []
    },
    {
      "cell_type": "code",
      "source": [
        "b"
      ],
      "metadata": {
        "colab": {
          "base_uri": "https://localhost:8080/"
        },
        "id": "wIQx5x9s4c-f",
        "outputId": "2b96512d-0894-4391-8eb8-85d344ba4e27"
      },
      "execution_count": null,
      "outputs": [
        {
          "output_type": "execute_result",
          "data": {
            "text/plain": [
              "array([[72, 66, 95],\n",
              "       [65, 74, 87]])"
            ]
          },
          "metadata": {},
          "execution_count": 15
        }
      ]
    },
    {
      "cell_type": "code",
      "source": [
        "np.array_equal(a,b)"
      ],
      "metadata": {
        "colab": {
          "base_uri": "https://localhost:8080/"
        },
        "id": "m8jHiFOY4duO",
        "outputId": "91694efb-e172-4d52-a270-527f2e653a3a"
      },
      "execution_count": null,
      "outputs": [
        {
          "output_type": "execute_result",
          "data": {
            "text/plain": [
              "False"
            ]
          },
          "metadata": {},
          "execution_count": 16
        }
      ]
    },
    {
      "cell_type": "code",
      "source": [
        "a == b"
      ],
      "metadata": {
        "colab": {
          "base_uri": "https://localhost:8080/"
        },
        "id": "wsTKzzp_4itP",
        "outputId": "1b56411d-c476-4939-bb85-d450fcd86db1"
      },
      "execution_count": null,
      "outputs": [
        {
          "output_type": "execute_result",
          "data": {
            "text/plain": [
              "array([[False, False, False],\n",
              "       [ True, False, False]])"
            ]
          },
          "metadata": {},
          "execution_count": 17
        }
      ]
    },
    {
      "cell_type": "markdown",
      "source": [
        "# **ARRAY FUNCTIONS**\n",
        "\n",
        "\n",
        "*   sum()\n",
        "*   min()\n",
        "*   max()\n",
        "*   mean()\n",
        "*   median()\n",
        "*   var()\n",
        "*   std()\n",
        "\n",
        "\n"
      ],
      "metadata": {
        "id": "svvmMi2PPoza"
      }
    },
    {
      "cell_type": "markdown",
      "source": [
        "# **min**()"
      ],
      "metadata": {
        "id": "dnNzAT3TQGhB"
      }
    },
    {
      "cell_type": "code",
      "source": [
        "a = np.array([[100,200],[300,400],[500,600]])\n",
        "a"
      ],
      "metadata": {
        "id": "Ht6NBRAI4k8i",
        "colab": {
          "base_uri": "https://localhost:8080/"
        },
        "outputId": "f048b01e-1742-4a33-ac78-55e67a20da05"
      },
      "execution_count": null,
      "outputs": [
        {
          "output_type": "execute_result",
          "data": {
            "text/plain": [
              "array([[100, 200],\n",
              "       [300, 400],\n",
              "       [500, 600]])"
            ]
          },
          "metadata": {},
          "execution_count": 2
        }
      ]
    },
    {
      "cell_type": "code",
      "source": [
        "np.min(a)"
      ],
      "metadata": {
        "colab": {
          "base_uri": "https://localhost:8080/"
        },
        "id": "2DCqQGYkQW2n",
        "outputId": "02570cab-d29b-48a3-824a-a5bebbf4e50e"
      },
      "execution_count": null,
      "outputs": [
        {
          "output_type": "execute_result",
          "data": {
            "text/plain": [
              "100"
            ]
          },
          "metadata": {},
          "execution_count": 3
        }
      ]
    },
    {
      "cell_type": "code",
      "source": [
        "np.min(a,axis = 1)"
      ],
      "metadata": {
        "colab": {
          "base_uri": "https://localhost:8080/"
        },
        "id": "itSZxOO6QaMt",
        "outputId": "82009fcd-2c51-46db-b853-820aefb700d9"
      },
      "execution_count": null,
      "outputs": [
        {
          "output_type": "execute_result",
          "data": {
            "text/plain": [
              "array([100, 300, 500])"
            ]
          },
          "metadata": {},
          "execution_count": 4
        }
      ]
    },
    {
      "cell_type": "code",
      "source": [
        "np.min(a,axis = 0)"
      ],
      "metadata": {
        "colab": {
          "base_uri": "https://localhost:8080/"
        },
        "id": "UhvsE1r7Qeu8",
        "outputId": "db7ceef4-764a-4307-cc8d-8a29909ee8ae"
      },
      "execution_count": null,
      "outputs": [
        {
          "output_type": "execute_result",
          "data": {
            "text/plain": [
              "array([100, 200])"
            ]
          },
          "metadata": {},
          "execution_count": 5
        }
      ]
    },
    {
      "cell_type": "markdown",
      "source": [
        "# **max**()"
      ],
      "metadata": {
        "id": "Mx8tWx7kQipg"
      }
    },
    {
      "cell_type": "code",
      "source": [
        "np.max(a)"
      ],
      "metadata": {
        "colab": {
          "base_uri": "https://localhost:8080/"
        },
        "id": "KJA0zVjAQg4_",
        "outputId": "eb26852a-19ba-4e1a-8272-6ad9459239de"
      },
      "execution_count": null,
      "outputs": [
        {
          "output_type": "execute_result",
          "data": {
            "text/plain": [
              "600"
            ]
          },
          "metadata": {},
          "execution_count": 6
        }
      ]
    },
    {
      "cell_type": "code",
      "source": [
        "np.max(a,axis = 1)"
      ],
      "metadata": {
        "colab": {
          "base_uri": "https://localhost:8080/"
        },
        "id": "hNvZxmE9Qm3s",
        "outputId": "aaf37b52-9528-43b6-eede-5b53c1913ba3"
      },
      "execution_count": null,
      "outputs": [
        {
          "output_type": "execute_result",
          "data": {
            "text/plain": [
              "array([200, 400, 600])"
            ]
          },
          "metadata": {},
          "execution_count": 7
        }
      ]
    },
    {
      "cell_type": "code",
      "source": [
        "np.min(a,axis = 0)"
      ],
      "metadata": {
        "colab": {
          "base_uri": "https://localhost:8080/"
        },
        "id": "4NdhHA3pQq67",
        "outputId": "0b8fcc40-9bb9-4927-972d-3a4b0ee749a1"
      },
      "execution_count": null,
      "outputs": [
        {
          "output_type": "execute_result",
          "data": {
            "text/plain": [
              "array([100, 200])"
            ]
          },
          "metadata": {},
          "execution_count": 8
        }
      ]
    },
    {
      "cell_type": "markdown",
      "source": [
        "# **sum**()"
      ],
      "metadata": {
        "id": "3uKhe5ivQu_F"
      }
    },
    {
      "cell_type": "code",
      "source": [
        "np.sum(a)"
      ],
      "metadata": {
        "colab": {
          "base_uri": "https://localhost:8080/"
        },
        "id": "KDgdXy9eQtLh",
        "outputId": "0e4585ba-2d05-4874-e5e3-e98a0797d706"
      },
      "execution_count": null,
      "outputs": [
        {
          "output_type": "execute_result",
          "data": {
            "text/plain": [
              "2100"
            ]
          },
          "metadata": {},
          "execution_count": 9
        }
      ]
    },
    {
      "cell_type": "code",
      "source": [
        "np.sum(a,axis = 1)"
      ],
      "metadata": {
        "colab": {
          "base_uri": "https://localhost:8080/"
        },
        "id": "dq03R65-Q2LP",
        "outputId": "c667dd64-7531-4665-84f6-1555c70caf6a"
      },
      "execution_count": null,
      "outputs": [
        {
          "output_type": "execute_result",
          "data": {
            "text/plain": [
              "array([ 300,  700, 1100])"
            ]
          },
          "metadata": {},
          "execution_count": 10
        }
      ]
    },
    {
      "cell_type": "code",
      "source": [
        "np.sum(a,axis = 0)"
      ],
      "metadata": {
        "colab": {
          "base_uri": "https://localhost:8080/"
        },
        "id": "m5JXrSyLQ7_o",
        "outputId": "3aeee93a-1549-4dc4-b6b2-a8d83c6690f9"
      },
      "execution_count": null,
      "outputs": [
        {
          "output_type": "execute_result",
          "data": {
            "text/plain": [
              "array([ 900, 1200])"
            ]
          },
          "metadata": {},
          "execution_count": 11
        }
      ]
    },
    {
      "cell_type": "markdown",
      "source": [
        "# **mean**()\n",
        "\n",
        "average"
      ],
      "metadata": {
        "id": "Lj4LSrCDSXy6"
      }
    },
    {
      "cell_type": "code",
      "source": [
        "np.mean(a)"
      ],
      "metadata": {
        "colab": {
          "base_uri": "https://localhost:8080/"
        },
        "id": "ifhPfeGMSQiB",
        "outputId": "97cbe96f-39f7-4ff6-d1c3-aca3f38d7e8a"
      },
      "execution_count": null,
      "outputs": [
        {
          "output_type": "execute_result",
          "data": {
            "text/plain": [
              "350.0"
            ]
          },
          "metadata": {},
          "execution_count": 12
        }
      ]
    },
    {
      "cell_type": "code",
      "source": [
        "np.mean(a,axis = 1)"
      ],
      "metadata": {
        "colab": {
          "base_uri": "https://localhost:8080/"
        },
        "id": "BKprcaEkSie-",
        "outputId": "9d9c04e8-763e-4f6a-a937-b93b575b090a"
      },
      "execution_count": null,
      "outputs": [
        {
          "output_type": "execute_result",
          "data": {
            "text/plain": [
              "array([150., 350., 550.])"
            ]
          },
          "metadata": {},
          "execution_count": 13
        }
      ]
    },
    {
      "cell_type": "code",
      "source": [
        "np.mean(a,axis = 0)"
      ],
      "metadata": {
        "colab": {
          "base_uri": "https://localhost:8080/"
        },
        "id": "2hQbmCi3SmJf",
        "outputId": "145be9cc-dba9-469f-97af-31fb1bfce23c"
      },
      "execution_count": null,
      "outputs": [
        {
          "output_type": "execute_result",
          "data": {
            "text/plain": [
              "array([300., 400.])"
            ]
          },
          "metadata": {},
          "execution_count": 15
        }
      ]
    },
    {
      "cell_type": "markdown",
      "source": [
        "# **meadian**()"
      ],
      "metadata": {
        "id": "9Wpy2o_tSsLL"
      }
    },
    {
      "cell_type": "code",
      "source": [
        "np.median(a)"
      ],
      "metadata": {
        "colab": {
          "base_uri": "https://localhost:8080/"
        },
        "id": "MLoLgBRRSpVo",
        "outputId": "6ab183e5-c935-43e7-b042-b83b6f56e0a4"
      },
      "execution_count": null,
      "outputs": [
        {
          "output_type": "execute_result",
          "data": {
            "text/plain": [
              "350.0"
            ]
          },
          "metadata": {},
          "execution_count": 17
        }
      ]
    },
    {
      "cell_type": "code",
      "source": [
        "np.median(a,axis = 1)"
      ],
      "metadata": {
        "colab": {
          "base_uri": "https://localhost:8080/"
        },
        "id": "Lr4K0hURSzSI",
        "outputId": "b65c2149-90a8-440d-d571-b74724737d4b"
      },
      "execution_count": null,
      "outputs": [
        {
          "output_type": "execute_result",
          "data": {
            "text/plain": [
              "array([150., 350., 550.])"
            ]
          },
          "metadata": {},
          "execution_count": 18
        }
      ]
    },
    {
      "cell_type": "code",
      "source": [
        "np.median(a,axis = 0)"
      ],
      "metadata": {
        "colab": {
          "base_uri": "https://localhost:8080/"
        },
        "id": "U-uHSnKlS26h",
        "outputId": "12f8d9d0-35fc-4468-8974-024eb265ed72"
      },
      "execution_count": null,
      "outputs": [
        {
          "output_type": "execute_result",
          "data": {
            "text/plain": [
              "array([300., 400.])"
            ]
          },
          "metadata": {},
          "execution_count": 19
        }
      ]
    },
    {
      "cell_type": "markdown",
      "source": [
        "# **var**()\n",
        "\n",
        "variance"
      ],
      "metadata": {
        "id": "vMGk_LLsS9M8"
      }
    },
    {
      "cell_type": "code",
      "source": [
        "np.var(a)"
      ],
      "metadata": {
        "colab": {
          "base_uri": "https://localhost:8080/"
        },
        "id": "HoNS7YnmS6GQ",
        "outputId": "89533127-df6d-4f16-be05-a1d508f0bb6f"
      },
      "execution_count": null,
      "outputs": [
        {
          "output_type": "execute_result",
          "data": {
            "text/plain": [
              "29166.666666666668"
            ]
          },
          "metadata": {},
          "execution_count": 20
        }
      ]
    },
    {
      "cell_type": "code",
      "source": [
        "np.var(a,axis = 1)"
      ],
      "metadata": {
        "colab": {
          "base_uri": "https://localhost:8080/"
        },
        "id": "YzlJo0flTDDA",
        "outputId": "065bc9d7-8e62-45e3-e9c3-b2b647044835"
      },
      "execution_count": null,
      "outputs": [
        {
          "output_type": "execute_result",
          "data": {
            "text/plain": [
              "array([2500., 2500., 2500.])"
            ]
          },
          "metadata": {},
          "execution_count": 21
        }
      ]
    },
    {
      "cell_type": "code",
      "source": [
        "np.var(a,axis = 0)"
      ],
      "metadata": {
        "colab": {
          "base_uri": "https://localhost:8080/"
        },
        "id": "LlyQv_zMTHg_",
        "outputId": "41c1d69c-b3ca-45b9-f375-0bb0ca621585"
      },
      "execution_count": null,
      "outputs": [
        {
          "output_type": "execute_result",
          "data": {
            "text/plain": [
              "array([26666.66666667, 26666.66666667])"
            ]
          },
          "metadata": {},
          "execution_count": 22
        }
      ]
    },
    {
      "cell_type": "markdown",
      "source": [
        "# **std**()"
      ],
      "metadata": {
        "id": "prbUjIcoTLhg"
      }
    },
    {
      "cell_type": "code",
      "source": [
        "np.std(a)"
      ],
      "metadata": {
        "colab": {
          "base_uri": "https://localhost:8080/"
        },
        "id": "KUMUkMoUTJqE",
        "outputId": "4b8d4eec-0a3c-437a-97f1-d06f35986315"
      },
      "execution_count": null,
      "outputs": [
        {
          "output_type": "execute_result",
          "data": {
            "text/plain": [
              "170.78251276599332"
            ]
          },
          "metadata": {},
          "execution_count": 23
        }
      ]
    },
    {
      "cell_type": "code",
      "source": [
        "np.std(a,axis = 1)"
      ],
      "metadata": {
        "colab": {
          "base_uri": "https://localhost:8080/"
        },
        "id": "ivu7HjnETSX2",
        "outputId": "01ec4201-1898-4cb2-f925-df658a338307"
      },
      "execution_count": null,
      "outputs": [
        {
          "output_type": "execute_result",
          "data": {
            "text/plain": [
              "array([50., 50., 50.])"
            ]
          },
          "metadata": {},
          "execution_count": 24
        }
      ]
    },
    {
      "cell_type": "code",
      "source": [
        "np.std(a,axis = 0)"
      ],
      "metadata": {
        "colab": {
          "base_uri": "https://localhost:8080/"
        },
        "id": "EyouchM5TVlA",
        "outputId": "6ee06ce1-8ba7-4d05-8a2e-7a5434574e58"
      },
      "execution_count": null,
      "outputs": [
        {
          "output_type": "execute_result",
          "data": {
            "text/plain": [
              "array([163.29931619, 163.29931619])"
            ]
          },
          "metadata": {},
          "execution_count": 25
        }
      ]
    },
    {
      "cell_type": "code",
      "source": [],
      "metadata": {
        "id": "c54Fm50-TXX6"
      },
      "execution_count": null,
      "outputs": []
    }
  ]
}